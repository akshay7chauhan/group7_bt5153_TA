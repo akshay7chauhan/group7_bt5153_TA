{
 "cells": [
  {
   "cell_type": "code",
   "execution_count": 1,
   "id": "nutritional-range",
   "metadata": {},
   "outputs": [],
   "source": [
    "import nltk"
   ]
  },
  {
   "cell_type": "code",
   "execution_count": 2,
   "id": "peripheral-strap",
   "metadata": {},
   "outputs": [
    {
     "name": "stderr",
     "output_type": "stream",
     "text": [
      "[nltk_data] Downloading package vader_lexicon to\n",
      "[nltk_data]     /Users/akshaychauhan/nltk_data...\n",
      "[nltk_data]   Package vader_lexicon is already up-to-date!\n"
     ]
    },
    {
     "data": {
      "text/plain": [
       "True"
      ]
     },
     "execution_count": 2,
     "metadata": {},
     "output_type": "execute_result"
    }
   ],
   "source": [
    "nltk.download('vader_lexicon')"
   ]
  },
  {
   "cell_type": "code",
   "execution_count": 3,
   "id": "reliable-climate",
   "metadata": {},
   "outputs": [],
   "source": [
    "from nltk.sentiment.vader import SentimentIntensityAnalyzer"
   ]
  },
  {
   "cell_type": "code",
   "execution_count": 4,
   "id": "known-karaoke",
   "metadata": {},
   "outputs": [],
   "source": [
    "sentiment = SentimentIntensityAnalyzer()"
   ]
  },
  {
   "cell_type": "code",
   "execution_count": 5,
   "id": "dependent-dallas",
   "metadata": {},
   "outputs": [
    {
     "data": {
      "text/plain": [
       "{'neg': 0.0, 'neu': 0.27, 'pos': 0.73, 'compound': 0.8442}"
      ]
     },
     "execution_count": 5,
     "metadata": {},
     "output_type": "execute_result"
    }
   ],
   "source": [
    "sentiment.polarity_scores('Hello my beautiful. i love you')"
   ]
  },
  {
   "cell_type": "code",
   "execution_count": 6,
   "id": "useful-orientation",
   "metadata": {},
   "outputs": [],
   "source": [
    "import pandas as pd"
   ]
  },
  {
   "cell_type": "code",
   "execution_count": 7,
   "id": "single-unknown",
   "metadata": {},
   "outputs": [],
   "source": [
    "df = pd.read_csv('singapore_trip_advisor_data.csv')"
   ]
  },
  {
   "cell_type": "code",
   "execution_count": 8,
   "id": "religious-namibia",
   "metadata": {},
   "outputs": [
    {
     "data": {
      "text/plain": [
       "REVIEW_INDEX               0\n",
       "REVIEW_DATE                0\n",
       "REVIEW_RATING              0\n",
       "REVIEW_TITLE               5\n",
       "REVIEW_BODY               11\n",
       "DATE_OF_EXPERIENCE        36\n",
       "TRIP_TYPE                  0\n",
       "REVIEW_CRAWLED_TIME        0\n",
       "REVIEWER_NAME              6\n",
       "HOME_COUNTRY           22208\n",
       "ATTRACTION_NAME            0\n",
       "ATTRACTION_TYPE            0\n",
       "ADDRESS                    0\n",
       "dtype: int64"
      ]
     },
     "execution_count": 8,
     "metadata": {},
     "output_type": "execute_result"
    }
   ],
   "source": [
    "df.isnull().sum()"
   ]
  },
  {
   "cell_type": "code",
   "execution_count": 9,
   "id": "sealed-friday",
   "metadata": {},
   "outputs": [],
   "source": [
    "df1 = df[df['REVIEW_TITLE'].notna()]\n",
    "df2 = df1[df1['HOME_COUNTRY'].notna()]\n",
    "df3 = df2[df2['REVIEW_BODY'].notna()]"
   ]
  },
  {
   "cell_type": "code",
   "execution_count": 10,
   "id": "rubber-finger",
   "metadata": {},
   "outputs": [
    {
     "data": {
      "text/plain": [
       "(103799, 13)"
      ]
     },
     "execution_count": 10,
     "metadata": {},
     "output_type": "execute_result"
    }
   ],
   "source": [
    "df3.shape"
   ]
  },
  {
   "cell_type": "code",
   "execution_count": 11,
   "id": "worldwide-camping",
   "metadata": {},
   "outputs": [
    {
     "name": "stderr",
     "output_type": "stream",
     "text": [
      "/Users/akshaychauhan/opt/anaconda3/lib/python3.7/site-packages/ipykernel_launcher.py:2: SettingWithCopyWarning: \n",
      "A value is trying to be set on a copy of a slice from a DataFrame.\n",
      "Try using .loc[row_indexer,col_indexer] = value instead\n",
      "\n",
      "See the caveats in the documentation: https://pandas.pydata.org/pandas-docs/stable/user_guide/indexing.html#returning-a-view-versus-a-copy\n",
      "  \n"
     ]
    }
   ],
   "source": [
    "# sentiment polarity on review title\n",
    "df3['title_sent'] = df3['REVIEW_TITLE'].apply(sentiment.polarity_scores)"
   ]
  },
  {
   "cell_type": "code",
   "execution_count": 24,
   "id": "central-lottery",
   "metadata": {},
   "outputs": [],
   "source": [
    "negative = []\n",
    "positive = []\n",
    "neutral = []\n",
    "compound = []\n",
    "root_dict = {'title_neg':negative,\n",
    "            'title_neu':neutral,\n",
    "            'title_pos':positive,\n",
    "            'title_compound':compound}\n",
    "\n",
    "def sentiment_segregator(dictionary):\n",
    "    \n",
    "    negative.append(dictionary['neg'])\n",
    "    neutral.append(dictionary['neu'])\n",
    "    positive.append(dictionary['pos'])\n",
    "    compound.append(dictionary['compound'])\n",
    "    return None"
   ]
  },
  {
   "cell_type": "code",
   "execution_count": 25,
   "id": "specialized-orlando",
   "metadata": {},
   "outputs": [
    {
     "data": {
      "text/plain": [
       "0         None\n",
       "1         None\n",
       "2         None\n",
       "3         None\n",
       "4         None\n",
       "          ... \n",
       "126015    None\n",
       "126016    None\n",
       "126017    None\n",
       "126018    None\n",
       "126020    None\n",
       "Name: title_sent, Length: 103799, dtype: object"
      ]
     },
     "execution_count": 25,
     "metadata": {},
     "output_type": "execute_result"
    }
   ],
   "source": [
    "df3['title_sent'].apply(sentiment_segregator)"
   ]
  },
  {
   "cell_type": "code",
   "execution_count": 30,
   "id": "royal-agent",
   "metadata": {},
   "outputs": [],
   "source": [
    "title_sent_df = pd.DataFrame(root_dict)"
   ]
  },
  {
   "cell_type": "code",
   "execution_count": 31,
   "id": "valued-proof",
   "metadata": {},
   "outputs": [
    {
     "name": "stderr",
     "output_type": "stream",
     "text": [
      "/Users/akshaychauhan/opt/anaconda3/lib/python3.7/site-packages/ipykernel_launcher.py:2: SettingWithCopyWarning: \n",
      "A value is trying to be set on a copy of a slice from a DataFrame.\n",
      "Try using .loc[row_indexer,col_indexer] = value instead\n",
      "\n",
      "See the caveats in the documentation: https://pandas.pydata.org/pandas-docs/stable/user_guide/indexing.html#returning-a-view-versus-a-copy\n",
      "  \n"
     ]
    }
   ],
   "source": [
    "# sentiment polarity on review title\n",
    "df3['body_sent'] = df3['REVIEW_BODY'].apply(sentiment.polarity_scores)"
   ]
  },
  {
   "cell_type": "code",
   "execution_count": 33,
   "id": "smart-expansion",
   "metadata": {},
   "outputs": [],
   "source": [
    "negative = []\n",
    "positive = []\n",
    "neutral = []\n",
    "compound = []\n",
    "root_dict = {'body_neg':negative,\n",
    "            'body_neu':neutral,\n",
    "            'body_pos':positive,\n",
    "            'body_compound':compound}\n",
    "\n",
    "def sentiment_segregator(dictionary):\n",
    "    \n",
    "    negative.append(dictionary['neg'])\n",
    "    neutral.append(dictionary['neu'])\n",
    "    positive.append(dictionary['pos'])\n",
    "    compound.append(dictionary['compound'])\n",
    "    return None"
   ]
  },
  {
   "cell_type": "code",
   "execution_count": 34,
   "id": "systematic-there",
   "metadata": {},
   "outputs": [
    {
     "data": {
      "text/plain": [
       "0         None\n",
       "1         None\n",
       "2         None\n",
       "3         None\n",
       "4         None\n",
       "          ... \n",
       "126015    None\n",
       "126016    None\n",
       "126017    None\n",
       "126018    None\n",
       "126020    None\n",
       "Name: body_sent, Length: 103799, dtype: object"
      ]
     },
     "execution_count": 34,
     "metadata": {},
     "output_type": "execute_result"
    }
   ],
   "source": [
    "df3['body_sent'].apply(sentiment_segregator)"
   ]
  },
  {
   "cell_type": "code",
   "execution_count": 36,
   "id": "funny-shelter",
   "metadata": {},
   "outputs": [],
   "source": [
    "body_sent_df = pd.DataFrame(root_dict)"
   ]
  },
  {
   "cell_type": "code",
   "execution_count": 45,
   "id": "egyptian-kazakhstan",
   "metadata": {},
   "outputs": [],
   "source": [
    "new = pd.concat([df3.drop(['title_sent','body_sent'],axis=1).reset_index(),title_sent_df,body_sent_df],axis=1)"
   ]
  },
  {
   "cell_type": "code",
   "execution_count": 49,
   "id": "dirty-questionnaire",
   "metadata": {},
   "outputs": [],
   "source": [
    "new = new.drop('index',axis=1)"
   ]
  },
  {
   "cell_type": "code",
   "execution_count": 50,
   "id": "eligible-fishing",
   "metadata": {},
   "outputs": [],
   "source": [
    "new.to_csv('singapore_trip_advisor_data_sentiment_score.csv',index=False,encoding='utf-8')"
   ]
  },
  {
   "cell_type": "code",
   "execution_count": null,
   "id": "functioning-serial",
   "metadata": {},
   "outputs": [],
   "source": []
  }
 ],
 "metadata": {
  "kernelspec": {
   "display_name": "Python 3",
   "language": "python",
   "name": "python3"
  },
  "language_info": {
   "codemirror_mode": {
    "name": "ipython",
    "version": 3
   },
   "file_extension": ".py",
   "mimetype": "text/x-python",
   "name": "python",
   "nbconvert_exporter": "python",
   "pygments_lexer": "ipython3",
   "version": "3.7.7"
  }
 },
 "nbformat": 4,
 "nbformat_minor": 5
}
