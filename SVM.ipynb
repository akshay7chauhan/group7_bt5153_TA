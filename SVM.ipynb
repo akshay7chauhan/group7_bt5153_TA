{
 "cells": [
  {
   "cell_type": "code",
   "execution_count": 1,
   "id": "adjacent-spread",
   "metadata": {},
   "outputs": [],
   "source": [
    "import pandas as pd"
   ]
  },
  {
   "cell_type": "code",
   "execution_count": 2,
   "id": "curious-edition",
   "metadata": {},
   "outputs": [],
   "source": [
    "df = pd.read_csv('singapore_trip_advisor_data_sentiment_score.csv')"
   ]
  },
  {
   "cell_type": "code",
   "execution_count": 3,
   "id": "administrative-weather",
   "metadata": {},
   "outputs": [
    {
     "data": {
      "text/html": [
       "<div>\n",
       "<style scoped>\n",
       "    .dataframe tbody tr th:only-of-type {\n",
       "        vertical-align: middle;\n",
       "    }\n",
       "\n",
       "    .dataframe tbody tr th {\n",
       "        vertical-align: top;\n",
       "    }\n",
       "\n",
       "    .dataframe thead th {\n",
       "        text-align: right;\n",
       "    }\n",
       "</style>\n",
       "<table border=\"1\" class=\"dataframe\">\n",
       "  <thead>\n",
       "    <tr style=\"text-align: right;\">\n",
       "      <th></th>\n",
       "      <th>REVIEW_INDEX</th>\n",
       "      <th>REVIEW_DATE</th>\n",
       "      <th>REVIEW_RATING</th>\n",
       "      <th>REVIEW_TITLE</th>\n",
       "      <th>REVIEW_BODY</th>\n",
       "      <th>DATE_OF_EXPERIENCE</th>\n",
       "      <th>TRIP_TYPE</th>\n",
       "      <th>REVIEW_CRAWLED_TIME</th>\n",
       "      <th>REVIEWER_NAME</th>\n",
       "      <th>HOME_COUNTRY</th>\n",
       "      <th>...</th>\n",
       "      <th>ATTRACTION_TYPE</th>\n",
       "      <th>ADDRESS</th>\n",
       "      <th>title_neg</th>\n",
       "      <th>title_neu</th>\n",
       "      <th>title_pos</th>\n",
       "      <th>title_compound</th>\n",
       "      <th>body_neg</th>\n",
       "      <th>body_neu</th>\n",
       "      <th>body_pos</th>\n",
       "      <th>body_compound</th>\n",
       "    </tr>\n",
       "  </thead>\n",
       "  <tbody>\n",
       "    <tr>\n",
       "      <th>0</th>\n",
       "      <td>741832336</td>\n",
       "      <td>2020-01-29 00:00:00.000</td>\n",
       "      <td>5</td>\n",
       "      <td>Fabulous</td>\n",
       "      <td>Fabulous experience and an unforgettable day o...</td>\n",
       "      <td>2020-01-01 00:00:00.000</td>\n",
       "      <td>Couples</td>\n",
       "      <td>2020-01-29 12:01:27.012</td>\n",
       "      <td>Dreinog</td>\n",
       "      <td>United Kingdom</td>\n",
       "      <td>...</td>\n",
       "      <td>Leisure &amp; Recreation</td>\n",
       "      <td>18 Marina Gardens Drive | 18 Marina Gardens Dr...</td>\n",
       "      <td>0.0</td>\n",
       "      <td>0.000</td>\n",
       "      <td>1.000</td>\n",
       "      <td>0.5267</td>\n",
       "      <td>0.000</td>\n",
       "      <td>0.527</td>\n",
       "      <td>0.473</td>\n",
       "      <td>0.9358</td>\n",
       "    </tr>\n",
       "    <tr>\n",
       "      <th>1</th>\n",
       "      <td>741819214</td>\n",
       "      <td>2020-01-29 00:00:00.000</td>\n",
       "      <td>5</td>\n",
       "      <td>Stunning</td>\n",
       "      <td>I wasnâ€™t sure what to expect but this was ab...</td>\n",
       "      <td>2020-01-01 00:00:00.000</td>\n",
       "      <td>Family</td>\n",
       "      <td>2020-01-29 11:30:13.663</td>\n",
       "      <td>3mcglynns</td>\n",
       "      <td>Australia</td>\n",
       "      <td>...</td>\n",
       "      <td>Leisure &amp; Recreation</td>\n",
       "      <td>18 Marina Gardens Drive | 18 Marina Gardens Dr...</td>\n",
       "      <td>0.0</td>\n",
       "      <td>0.000</td>\n",
       "      <td>1.000</td>\n",
       "      <td>0.3818</td>\n",
       "      <td>0.052</td>\n",
       "      <td>0.501</td>\n",
       "      <td>0.446</td>\n",
       "      <td>0.9802</td>\n",
       "    </tr>\n",
       "    <tr>\n",
       "      <th>2</th>\n",
       "      <td>741818972</td>\n",
       "      <td>2020-01-29 00:00:00.000</td>\n",
       "      <td>3</td>\n",
       "      <td>Another Chinatown</td>\n",
       "      <td>As every major city worldwide seems to have a ...</td>\n",
       "      <td>2020-01-01 00:00:00.000</td>\n",
       "      <td>Couples</td>\n",
       "      <td>2020-01-30 11:53:44.082</td>\n",
       "      <td>MR_Travels1920</td>\n",
       "      <td>United Kingdom</td>\n",
       "      <td>...</td>\n",
       "      <td>Precinct &amp; Street</td>\n",
       "      <td>Crot | Trengganu, Singapore 048942, Singapore</td>\n",
       "      <td>0.0</td>\n",
       "      <td>1.000</td>\n",
       "      <td>0.000</td>\n",
       "      <td>0.0000</td>\n",
       "      <td>0.063</td>\n",
       "      <td>0.861</td>\n",
       "      <td>0.076</td>\n",
       "      <td>0.3805</td>\n",
       "    </tr>\n",
       "    <tr>\n",
       "      <th>3</th>\n",
       "      <td>741881009</td>\n",
       "      <td>2020-01-29 00:00:00.000</td>\n",
       "      <td>4</td>\n",
       "      <td>Good lively place to visit</td>\n",
       "      <td>Busy lively place in the evening I visited. Go...</td>\n",
       "      <td>2020-01-01 00:00:00.000</td>\n",
       "      <td>Solo</td>\n",
       "      <td>2020-01-30 12:34:12.312</td>\n",
       "      <td>RaviA651</td>\n",
       "      <td>United States</td>\n",
       "      <td>...</td>\n",
       "      <td>Precinct &amp; Street</td>\n",
       "      <td>Crot | Trengganu, Singapore 048942, Singapore</td>\n",
       "      <td>0.0</td>\n",
       "      <td>0.341</td>\n",
       "      <td>0.659</td>\n",
       "      <td>0.7003</td>\n",
       "      <td>0.083</td>\n",
       "      <td>0.783</td>\n",
       "      <td>0.134</td>\n",
       "      <td>0.2732</td>\n",
       "    </tr>\n",
       "    <tr>\n",
       "      <th>4</th>\n",
       "      <td>741827762</td>\n",
       "      <td>2020-01-29 00:00:00.000</td>\n",
       "      <td>5</td>\n",
       "      <td>Great experience</td>\n",
       "      <td>Fabulous location and atmosphere. We only stop...</td>\n",
       "      <td>2020-01-01 00:00:00.000</td>\n",
       "      <td>Couples</td>\n",
       "      <td>2020-01-29 23:02:07.201</td>\n",
       "      <td>Dreinog</td>\n",
       "      <td>United Kingdom</td>\n",
       "      <td>...</td>\n",
       "      <td>Precinct &amp; Street</td>\n",
       "      <td>Marina Boulevard, Singapore 018980, Singapore</td>\n",
       "      <td>0.0</td>\n",
       "      <td>0.196</td>\n",
       "      <td>0.804</td>\n",
       "      <td>0.6249</td>\n",
       "      <td>0.032</td>\n",
       "      <td>0.647</td>\n",
       "      <td>0.320</td>\n",
       "      <td>0.9313</td>\n",
       "    </tr>\n",
       "  </tbody>\n",
       "</table>\n",
       "<p>5 rows × 21 columns</p>\n",
       "</div>"
      ],
      "text/plain": [
       "   REVIEW_INDEX              REVIEW_DATE  REVIEW_RATING  \\\n",
       "0     741832336  2020-01-29 00:00:00.000              5   \n",
       "1     741819214  2020-01-29 00:00:00.000              5   \n",
       "2     741818972  2020-01-29 00:00:00.000              3   \n",
       "3     741881009  2020-01-29 00:00:00.000              4   \n",
       "4     741827762  2020-01-29 00:00:00.000              5   \n",
       "\n",
       "                 REVIEW_TITLE  \\\n",
       "0                    Fabulous   \n",
       "1                    Stunning   \n",
       "2           Another Chinatown   \n",
       "3  Good lively place to visit   \n",
       "4            Great experience   \n",
       "\n",
       "                                         REVIEW_BODY       DATE_OF_EXPERIENCE  \\\n",
       "0  Fabulous experience and an unforgettable day o...  2020-01-01 00:00:00.000   \n",
       "1  I wasnâ€™t sure what to expect but this was ab...  2020-01-01 00:00:00.000   \n",
       "2  As every major city worldwide seems to have a ...  2020-01-01 00:00:00.000   \n",
       "3  Busy lively place in the evening I visited. Go...  2020-01-01 00:00:00.000   \n",
       "4  Fabulous location and atmosphere. We only stop...  2020-01-01 00:00:00.000   \n",
       "\n",
       "  TRIP_TYPE      REVIEW_CRAWLED_TIME   REVIEWER_NAME    HOME_COUNTRY  ...  \\\n",
       "0   Couples  2020-01-29 12:01:27.012         Dreinog  United Kingdom  ...   \n",
       "1    Family  2020-01-29 11:30:13.663       3mcglynns       Australia  ...   \n",
       "2   Couples  2020-01-30 11:53:44.082  MR_Travels1920  United Kingdom  ...   \n",
       "3      Solo  2020-01-30 12:34:12.312        RaviA651   United States  ...   \n",
       "4   Couples  2020-01-29 23:02:07.201         Dreinog  United Kingdom  ...   \n",
       "\n",
       "        ATTRACTION_TYPE                                            ADDRESS  \\\n",
       "0  Leisure & Recreation  18 Marina Gardens Drive | 18 Marina Gardens Dr...   \n",
       "1  Leisure & Recreation  18 Marina Gardens Drive | 18 Marina Gardens Dr...   \n",
       "2     Precinct & Street      Crot | Trengganu, Singapore 048942, Singapore   \n",
       "3     Precinct & Street      Crot | Trengganu, Singapore 048942, Singapore   \n",
       "4     Precinct & Street      Marina Boulevard, Singapore 018980, Singapore   \n",
       "\n",
       "  title_neg  title_neu  title_pos  title_compound  body_neg  body_neu  \\\n",
       "0       0.0      0.000      1.000          0.5267     0.000     0.527   \n",
       "1       0.0      0.000      1.000          0.3818     0.052     0.501   \n",
       "2       0.0      1.000      0.000          0.0000     0.063     0.861   \n",
       "3       0.0      0.341      0.659          0.7003     0.083     0.783   \n",
       "4       0.0      0.196      0.804          0.6249     0.032     0.647   \n",
       "\n",
       "   body_pos  body_compound  \n",
       "0     0.473         0.9358  \n",
       "1     0.446         0.9802  \n",
       "2     0.076         0.3805  \n",
       "3     0.134         0.2732  \n",
       "4     0.320         0.9313  \n",
       "\n",
       "[5 rows x 21 columns]"
      ]
     },
     "execution_count": 3,
     "metadata": {},
     "output_type": "execute_result"
    }
   ],
   "source": [
    "df.head()"
   ]
  },
  {
   "cell_type": "code",
   "execution_count": 4,
   "id": "psychological-problem",
   "metadata": {},
   "outputs": [],
   "source": [
    "from sklearn.model_selection import train_test_split\n",
    "from sklearn.svm import LinearSVC\n",
    "from sklearn.metrics import classification_report,confusion_matrix"
   ]
  },
  {
   "cell_type": "code",
   "execution_count": 5,
   "id": "incorporated-enforcement",
   "metadata": {},
   "outputs": [],
   "source": [
    "df['review length'] = df['REVIEW_BODY'].apply(len)"
   ]
  },
  {
   "cell_type": "code",
   "execution_count": 6,
   "id": "herbal-building",
   "metadata": {},
   "outputs": [
    {
     "data": {
      "text/html": [
       "<div>\n",
       "<style scoped>\n",
       "    .dataframe tbody tr th:only-of-type {\n",
       "        vertical-align: middle;\n",
       "    }\n",
       "\n",
       "    .dataframe tbody tr th {\n",
       "        vertical-align: top;\n",
       "    }\n",
       "\n",
       "    .dataframe thead th {\n",
       "        text-align: right;\n",
       "    }\n",
       "</style>\n",
       "<table border=\"1\" class=\"dataframe\">\n",
       "  <thead>\n",
       "    <tr style=\"text-align: right;\">\n",
       "      <th></th>\n",
       "      <th>REVIEW_INDEX</th>\n",
       "      <th>REVIEW_DATE</th>\n",
       "      <th>REVIEW_RATING</th>\n",
       "      <th>REVIEW_TITLE</th>\n",
       "      <th>REVIEW_BODY</th>\n",
       "      <th>DATE_OF_EXPERIENCE</th>\n",
       "      <th>TRIP_TYPE</th>\n",
       "      <th>REVIEW_CRAWLED_TIME</th>\n",
       "      <th>REVIEWER_NAME</th>\n",
       "      <th>HOME_COUNTRY</th>\n",
       "      <th>...</th>\n",
       "      <th>ADDRESS</th>\n",
       "      <th>title_neg</th>\n",
       "      <th>title_neu</th>\n",
       "      <th>title_pos</th>\n",
       "      <th>title_compound</th>\n",
       "      <th>body_neg</th>\n",
       "      <th>body_neu</th>\n",
       "      <th>body_pos</th>\n",
       "      <th>body_compound</th>\n",
       "      <th>review length</th>\n",
       "    </tr>\n",
       "  </thead>\n",
       "  <tbody>\n",
       "    <tr>\n",
       "      <th>0</th>\n",
       "      <td>741832336</td>\n",
       "      <td>2020-01-29 00:00:00.000</td>\n",
       "      <td>5</td>\n",
       "      <td>Fabulous</td>\n",
       "      <td>Fabulous experience and an unforgettable day o...</td>\n",
       "      <td>2020-01-01 00:00:00.000</td>\n",
       "      <td>Couples</td>\n",
       "      <td>2020-01-29 12:01:27.012</td>\n",
       "      <td>Dreinog</td>\n",
       "      <td>United Kingdom</td>\n",
       "      <td>...</td>\n",
       "      <td>18 Marina Gardens Drive | 18 Marina Gardens Dr...</td>\n",
       "      <td>0.0</td>\n",
       "      <td>0.000</td>\n",
       "      <td>1.000</td>\n",
       "      <td>0.5267</td>\n",
       "      <td>0.000</td>\n",
       "      <td>0.527</td>\n",
       "      <td>0.473</td>\n",
       "      <td>0.9358</td>\n",
       "      <td>144</td>\n",
       "    </tr>\n",
       "    <tr>\n",
       "      <th>1</th>\n",
       "      <td>741819214</td>\n",
       "      <td>2020-01-29 00:00:00.000</td>\n",
       "      <td>5</td>\n",
       "      <td>Stunning</td>\n",
       "      <td>I wasnâ€™t sure what to expect but this was ab...</td>\n",
       "      <td>2020-01-01 00:00:00.000</td>\n",
       "      <td>Family</td>\n",
       "      <td>2020-01-29 11:30:13.663</td>\n",
       "      <td>3mcglynns</td>\n",
       "      <td>Australia</td>\n",
       "      <td>...</td>\n",
       "      <td>18 Marina Gardens Drive | 18 Marina Gardens Dr...</td>\n",
       "      <td>0.0</td>\n",
       "      <td>0.000</td>\n",
       "      <td>1.000</td>\n",
       "      <td>0.3818</td>\n",
       "      <td>0.052</td>\n",
       "      <td>0.501</td>\n",
       "      <td>0.446</td>\n",
       "      <td>0.9802</td>\n",
       "      <td>226</td>\n",
       "    </tr>\n",
       "    <tr>\n",
       "      <th>2</th>\n",
       "      <td>741818972</td>\n",
       "      <td>2020-01-29 00:00:00.000</td>\n",
       "      <td>3</td>\n",
       "      <td>Another Chinatown</td>\n",
       "      <td>As every major city worldwide seems to have a ...</td>\n",
       "      <td>2020-01-01 00:00:00.000</td>\n",
       "      <td>Couples</td>\n",
       "      <td>2020-01-30 11:53:44.082</td>\n",
       "      <td>MR_Travels1920</td>\n",
       "      <td>United Kingdom</td>\n",
       "      <td>...</td>\n",
       "      <td>Crot | Trengganu, Singapore 048942, Singapore</td>\n",
       "      <td>0.0</td>\n",
       "      <td>1.000</td>\n",
       "      <td>0.000</td>\n",
       "      <td>0.0000</td>\n",
       "      <td>0.063</td>\n",
       "      <td>0.861</td>\n",
       "      <td>0.076</td>\n",
       "      <td>0.3805</td>\n",
       "      <td>598</td>\n",
       "    </tr>\n",
       "    <tr>\n",
       "      <th>3</th>\n",
       "      <td>741881009</td>\n",
       "      <td>2020-01-29 00:00:00.000</td>\n",
       "      <td>4</td>\n",
       "      <td>Good lively place to visit</td>\n",
       "      <td>Busy lively place in the evening I visited. Go...</td>\n",
       "      <td>2020-01-01 00:00:00.000</td>\n",
       "      <td>Solo</td>\n",
       "      <td>2020-01-30 12:34:12.312</td>\n",
       "      <td>RaviA651</td>\n",
       "      <td>United States</td>\n",
       "      <td>...</td>\n",
       "      <td>Crot | Trengganu, Singapore 048942, Singapore</td>\n",
       "      <td>0.0</td>\n",
       "      <td>0.341</td>\n",
       "      <td>0.659</td>\n",
       "      <td>0.7003</td>\n",
       "      <td>0.083</td>\n",
       "      <td>0.783</td>\n",
       "      <td>0.134</td>\n",
       "      <td>0.2732</td>\n",
       "      <td>107</td>\n",
       "    </tr>\n",
       "    <tr>\n",
       "      <th>4</th>\n",
       "      <td>741827762</td>\n",
       "      <td>2020-01-29 00:00:00.000</td>\n",
       "      <td>5</td>\n",
       "      <td>Great experience</td>\n",
       "      <td>Fabulous location and atmosphere. We only stop...</td>\n",
       "      <td>2020-01-01 00:00:00.000</td>\n",
       "      <td>Couples</td>\n",
       "      <td>2020-01-29 23:02:07.201</td>\n",
       "      <td>Dreinog</td>\n",
       "      <td>United Kingdom</td>\n",
       "      <td>...</td>\n",
       "      <td>Marina Boulevard, Singapore 018980, Singapore</td>\n",
       "      <td>0.0</td>\n",
       "      <td>0.196</td>\n",
       "      <td>0.804</td>\n",
       "      <td>0.6249</td>\n",
       "      <td>0.032</td>\n",
       "      <td>0.647</td>\n",
       "      <td>0.320</td>\n",
       "      <td>0.9313</td>\n",
       "      <td>205</td>\n",
       "    </tr>\n",
       "  </tbody>\n",
       "</table>\n",
       "<p>5 rows × 22 columns</p>\n",
       "</div>"
      ],
      "text/plain": [
       "   REVIEW_INDEX              REVIEW_DATE  REVIEW_RATING  \\\n",
       "0     741832336  2020-01-29 00:00:00.000              5   \n",
       "1     741819214  2020-01-29 00:00:00.000              5   \n",
       "2     741818972  2020-01-29 00:00:00.000              3   \n",
       "3     741881009  2020-01-29 00:00:00.000              4   \n",
       "4     741827762  2020-01-29 00:00:00.000              5   \n",
       "\n",
       "                 REVIEW_TITLE  \\\n",
       "0                    Fabulous   \n",
       "1                    Stunning   \n",
       "2           Another Chinatown   \n",
       "3  Good lively place to visit   \n",
       "4            Great experience   \n",
       "\n",
       "                                         REVIEW_BODY       DATE_OF_EXPERIENCE  \\\n",
       "0  Fabulous experience and an unforgettable day o...  2020-01-01 00:00:00.000   \n",
       "1  I wasnâ€™t sure what to expect but this was ab...  2020-01-01 00:00:00.000   \n",
       "2  As every major city worldwide seems to have a ...  2020-01-01 00:00:00.000   \n",
       "3  Busy lively place in the evening I visited. Go...  2020-01-01 00:00:00.000   \n",
       "4  Fabulous location and atmosphere. We only stop...  2020-01-01 00:00:00.000   \n",
       "\n",
       "  TRIP_TYPE      REVIEW_CRAWLED_TIME   REVIEWER_NAME    HOME_COUNTRY  ...  \\\n",
       "0   Couples  2020-01-29 12:01:27.012         Dreinog  United Kingdom  ...   \n",
       "1    Family  2020-01-29 11:30:13.663       3mcglynns       Australia  ...   \n",
       "2   Couples  2020-01-30 11:53:44.082  MR_Travels1920  United Kingdom  ...   \n",
       "3      Solo  2020-01-30 12:34:12.312        RaviA651   United States  ...   \n",
       "4   Couples  2020-01-29 23:02:07.201         Dreinog  United Kingdom  ...   \n",
       "\n",
       "                                             ADDRESS title_neg title_neu  \\\n",
       "0  18 Marina Gardens Drive | 18 Marina Gardens Dr...       0.0     0.000   \n",
       "1  18 Marina Gardens Drive | 18 Marina Gardens Dr...       0.0     0.000   \n",
       "2      Crot | Trengganu, Singapore 048942, Singapore       0.0     1.000   \n",
       "3      Crot | Trengganu, Singapore 048942, Singapore       0.0     0.341   \n",
       "4      Marina Boulevard, Singapore 018980, Singapore       0.0     0.196   \n",
       "\n",
       "   title_pos  title_compound  body_neg  body_neu  body_pos  body_compound  \\\n",
       "0      1.000          0.5267     0.000     0.527     0.473         0.9358   \n",
       "1      1.000          0.3818     0.052     0.501     0.446         0.9802   \n",
       "2      0.000          0.0000     0.063     0.861     0.076         0.3805   \n",
       "3      0.659          0.7003     0.083     0.783     0.134         0.2732   \n",
       "4      0.804          0.6249     0.032     0.647     0.320         0.9313   \n",
       "\n",
       "   review length  \n",
       "0            144  \n",
       "1            226  \n",
       "2            598  \n",
       "3            107  \n",
       "4            205  \n",
       "\n",
       "[5 rows x 22 columns]"
      ]
     },
     "execution_count": 6,
     "metadata": {},
     "output_type": "execute_result"
    }
   ],
   "source": [
    "df.head()"
   ]
  },
  {
   "cell_type": "code",
   "execution_count": 7,
   "id": "expanded-exception",
   "metadata": {},
   "outputs": [
    {
     "data": {
      "text/plain": [
       "Index(['REVIEW_INDEX', 'REVIEW_DATE', 'REVIEW_RATING', 'REVIEW_TITLE',\n",
       "       'REVIEW_BODY', 'DATE_OF_EXPERIENCE', 'TRIP_TYPE', 'REVIEW_CRAWLED_TIME',\n",
       "       'REVIEWER_NAME', 'HOME_COUNTRY', 'ATTRACTION_NAME', 'ATTRACTION_TYPE',\n",
       "       'ADDRESS', 'title_neg', 'title_neu', 'title_pos', 'title_compound',\n",
       "       'body_neg', 'body_neu', 'body_pos', 'body_compound', 'review length'],\n",
       "      dtype='object')"
      ]
     },
     "execution_count": 7,
     "metadata": {},
     "output_type": "execute_result"
    }
   ],
   "source": [
    "df.columns"
   ]
  },
  {
   "cell_type": "code",
   "execution_count": 8,
   "id": "adequate-agenda",
   "metadata": {},
   "outputs": [],
   "source": [
    "X = df[['TRIP_TYPE', 'HOME_COUNTRY', 'ATTRACTION_NAME', 'ATTRACTION_TYPE', 'title_compound','body_compound', 'review length']]\n",
    "y = df['REVIEW_RATING']"
   ]
  },
  {
   "cell_type": "code",
   "execution_count": 9,
   "id": "apparent-modification",
   "metadata": {},
   "outputs": [],
   "source": [
    "X_new = pd.get_dummies(X,drop_first=True)"
   ]
  },
  {
   "cell_type": "code",
   "execution_count": 10,
   "id": "crude-notebook",
   "metadata": {},
   "outputs": [],
   "source": [
    "from sklearn.preprocessing import StandardScaler"
   ]
  },
  {
   "cell_type": "code",
   "execution_count": 11,
   "id": "stuffed-showcase",
   "metadata": {},
   "outputs": [],
   "source": [
    "std = StandardScaler()"
   ]
  },
  {
   "cell_type": "code",
   "execution_count": 12,
   "id": "concerned-absolute",
   "metadata": {},
   "outputs": [],
   "source": [
    "train_ratio = 0.6\n",
    "test_ratio = 0.2\n",
    "val_ratio = 0.2\n",
    "\n",
    "# \n",
    "X_train_val,X_test,y_train_val,y_test = train_test_split(X_new,y,test_size = test_ratio,stratify = y)\n",
    "X_train,X_val,y_train,y_val = train_test_split(X_train_val,y_train_val,test_size=val_ratio/(val_ratio+train_ratio),stratify = y_train_val)"
   ]
  },
  {
   "cell_type": "code",
   "execution_count": 13,
   "id": "powered-proxy",
   "metadata": {},
   "outputs": [],
   "source": [
    "svm = LinearSVC(multi_class='ovr')"
   ]
  },
  {
   "cell_type": "code",
   "execution_count": 14,
   "id": "parental-charity",
   "metadata": {},
   "outputs": [
    {
     "data": {
      "text/plain": [
       "array([[-1.04997634, -0.11852773,  1.20961009, ...,  0.85508738,\n",
       "        -0.40982623, -0.42554948],\n",
       "       [-1.04997634, -0.35502901,  0.06532024, ..., -1.16947113,\n",
       "         2.44005854, -0.42554948],\n",
       "       [ 1.43732952,  0.67475517,  2.90343732, ...,  0.85508738,\n",
       "        -0.40982623, -0.42554948],\n",
       "       ...,\n",
       "       [ 1.24589997,  0.44668997, -0.77985433, ...,  0.85508738,\n",
       "        -0.40982623, -0.42554948],\n",
       "       [ 0.41626538, -1.51019088, -0.50160756, ...,  0.85508738,\n",
       "        -0.40982623, -0.42554948],\n",
       "       [-0.48144016,  0.36785621,  0.81658653, ..., -1.16947113,\n",
       "        -0.40982623,  2.34990302]])"
      ]
     },
     "execution_count": 14,
     "metadata": {},
     "output_type": "execute_result"
    }
   ],
   "source": [
    "std.fit(X_train)\n",
    "X_train = std.transform(X_train)\n",
    "X_train"
   ]
  },
  {
   "cell_type": "code",
   "execution_count": 15,
   "id": "boring-concrete",
   "metadata": {},
   "outputs": [
    {
     "name": "stderr",
     "output_type": "stream",
     "text": [
      "/Users/akshaychauhan/opt/anaconda3/lib/python3.7/site-packages/sklearn/svm/_base.py:977: ConvergenceWarning: Liblinear failed to converge, increase the number of iterations.\n",
      "  \"the number of iterations.\", ConvergenceWarning)\n"
     ]
    },
    {
     "data": {
      "text/plain": [
       "LinearSVC()"
      ]
     },
     "execution_count": 15,
     "metadata": {},
     "output_type": "execute_result"
    }
   ],
   "source": [
    "svm.fit(X_train,y_train)"
   ]
  },
  {
   "cell_type": "code",
   "execution_count": 16,
   "id": "announced-market",
   "metadata": {},
   "outputs": [],
   "source": [
    "X_val = std.transform(X_val)\n",
    "X_test = std.transform(X_test)"
   ]
  },
  {
   "cell_type": "code",
   "execution_count": 17,
   "id": "available-automation",
   "metadata": {},
   "outputs": [
    {
     "data": {
      "text/plain": [
       "0.6355593378185264"
      ]
     },
     "execution_count": 17,
     "metadata": {},
     "output_type": "execute_result"
    }
   ],
   "source": [
    "svm.score(X_train,y_train)"
   ]
  },
  {
   "cell_type": "code",
   "execution_count": 18,
   "id": "touched-schedule",
   "metadata": {},
   "outputs": [
    {
     "data": {
      "text/plain": [
       "0.6302023121387283"
      ]
     },
     "execution_count": 18,
     "metadata": {},
     "output_type": "execute_result"
    }
   ],
   "source": [
    "svm.score(X_val,y_val)"
   ]
  },
  {
   "cell_type": "code",
   "execution_count": 19,
   "id": "pleasant-hawaii",
   "metadata": {},
   "outputs": [
    {
     "data": {
      "text/plain": [
       "0.6344894026974952"
      ]
     },
     "execution_count": 19,
     "metadata": {},
     "output_type": "execute_result"
    }
   ],
   "source": [
    "svm.score(X_test,y_test)"
   ]
  },
  {
   "cell_type": "code",
   "execution_count": null,
   "id": "forbidden-campus",
   "metadata": {},
   "outputs": [],
   "source": []
  }
 ],
 "metadata": {
  "kernelspec": {
   "display_name": "Python 3",
   "language": "python",
   "name": "python3"
  },
  "language_info": {
   "codemirror_mode": {
    "name": "ipython",
    "version": 3
   },
   "file_extension": ".py",
   "mimetype": "text/x-python",
   "name": "python",
   "nbconvert_exporter": "python",
   "pygments_lexer": "ipython3",
   "version": "3.7.7"
  }
 },
 "nbformat": 4,
 "nbformat_minor": 5
}
