{
 "cells": [
  {
   "cell_type": "code",
   "execution_count": 1,
   "id": "classified-bloom",
   "metadata": {},
   "outputs": [],
   "source": [
    "import pandas as pd"
   ]
  },
  {
   "cell_type": "code",
   "execution_count": 2,
   "id": "handed-watson",
   "metadata": {},
   "outputs": [],
   "source": [
    "df = pd.read_csv('singapore_trip_advisor_data.csv')"
   ]
  },
  {
   "cell_type": "code",
   "execution_count": 6,
   "id": "understanding-avenue",
   "metadata": {},
   "outputs": [
    {
     "data": {
      "text/plain": [
       "(126021, 13)"
      ]
     },
     "execution_count": 6,
     "metadata": {},
     "output_type": "execute_result"
    }
   ],
   "source": [
    "# initially we had 126,021 reviews \n",
    "df.shape"
   ]
  },
  {
   "cell_type": "code",
   "execution_count": 7,
   "id": "continent-participant",
   "metadata": {},
   "outputs": [
    {
     "data": {
      "text/plain": [
       "Index(['REVIEW_INDEX', 'REVIEW_DATE', 'REVIEW_RATING', 'REVIEW_TITLE',\n",
       "       'REVIEW_BODY', 'DATE_OF_EXPERIENCE', 'TRIP_TYPE', 'REVIEW_CRAWLED_TIME',\n",
       "       'REVIEWER_NAME', 'HOME_COUNTRY', 'ATTRACTION_NAME', 'ATTRACTION_TYPE',\n",
       "       'ADDRESS'],\n",
       "      dtype='object')"
      ]
     },
     "execution_count": 7,
     "metadata": {},
     "output_type": "execute_result"
    }
   ],
   "source": [
    "# review index to check duplicity\n",
    "# review date - no use yet\n",
    "# review rating - can act like proxy review sentiment \n",
    "# review title - sentiment analysis possible. try keyword extraction\n",
    "# review body - sentiment analysis, keyword extraction\n",
    "# date of experience - no use yet\n",
    "# trip type - for recommendations\n",
    "# review crawled - useless\n",
    "# reviewer name -  useless\n",
    "# home coutry - for recommendations (but missing data problem)\n",
    "# attraction name - important\n",
    "# attraction type - important\n",
    "df.columns"
   ]
  },
  {
   "cell_type": "code",
   "execution_count": 5,
   "id": "covered-halifax",
   "metadata": {},
   "outputs": [
    {
     "data": {
      "text/plain": [
       "REVIEW_INDEX               0\n",
       "REVIEW_DATE                0\n",
       "REVIEW_RATING              0\n",
       "REVIEW_TITLE               5\n",
       "REVIEW_BODY               11\n",
       "DATE_OF_EXPERIENCE        36\n",
       "TRIP_TYPE                  0\n",
       "REVIEW_CRAWLED_TIME        0\n",
       "REVIEWER_NAME              6\n",
       "HOME_COUNTRY           22208\n",
       "ATTRACTION_NAME            0\n",
       "ATTRACTION_TYPE            0\n",
       "ADDRESS                    0\n",
       "dtype: int64"
      ]
     },
     "execution_count": 5,
     "metadata": {},
     "output_type": "execute_result"
    }
   ],
   "source": [
    "# lot of missing home country data\n",
    "df.isnull().sum()"
   ]
  },
  {
   "cell_type": "code",
   "execution_count": 13,
   "id": "rational-strike",
   "metadata": {},
   "outputs": [
    {
     "data": {
      "text/plain": [
       "126021"
      ]
     },
     "execution_count": 13,
     "metadata": {},
     "output_type": "execute_result"
    }
   ],
   "source": [
    "# no review duplicity\n",
    "df['REVIEW_INDEX'].nunique()"
   ]
  },
  {
   "cell_type": "code",
   "execution_count": 25,
   "id": "interim-biography",
   "metadata": {},
   "outputs": [
    {
     "data": {
      "text/plain": [
       "125904"
      ]
     },
     "execution_count": 25,
     "metadata": {},
     "output_type": "execute_result"
    }
   ],
   "source": [
    "# there was review text duplicity but because user wrote exact same review for multiple places they visited\n",
    "df['REVIEW_BODY'].nunique()"
   ]
  },
  {
   "cell_type": "code",
   "execution_count": 32,
   "id": "biological-challenge",
   "metadata": {},
   "outputs": [],
   "source": [
    "# loose only 47 reviews if drop NaN - will drop\n",
    "\n",
    "# df[df['REVIEW_BODY'].isnull()]\n",
    "# df[df['REVIEW_TITLE'].isnull()]"
   ]
  },
  {
   "cell_type": "code",
   "execution_count": 42,
   "id": "sitting-productivity",
   "metadata": {},
   "outputs": [
    {
     "data": {
      "text/html": [
       "<div>\n",
       "<style scoped>\n",
       "    .dataframe tbody tr th:only-of-type {\n",
       "        vertical-align: middle;\n",
       "    }\n",
       "\n",
       "    .dataframe tbody tr th {\n",
       "        vertical-align: top;\n",
       "    }\n",
       "\n",
       "    .dataframe thead th {\n",
       "        text-align: right;\n",
       "    }\n",
       "</style>\n",
       "<table border=\"1\" class=\"dataframe\">\n",
       "  <thead>\n",
       "    <tr style=\"text-align: right;\">\n",
       "      <th></th>\n",
       "      <th>ATTRACTION_NAME</th>\n",
       "    </tr>\n",
       "  </thead>\n",
       "  <tbody>\n",
       "    <tr>\n",
       "      <th>Gardens by the Bay</th>\n",
       "      <td>28749</td>\n",
       "    </tr>\n",
       "    <tr>\n",
       "      <th>Singapore Zoo</th>\n",
       "      <td>8213</td>\n",
       "    </tr>\n",
       "    <tr>\n",
       "      <th>Singapore Botanic Gardens</th>\n",
       "      <td>7556</td>\n",
       "    </tr>\n",
       "    <tr>\n",
       "      <th>Cloud Forest</th>\n",
       "      <td>7317</td>\n",
       "    </tr>\n",
       "    <tr>\n",
       "      <th>Marina Bay Sands Skypark</th>\n",
       "      <td>6295</td>\n",
       "    </tr>\n",
       "    <tr>\n",
       "      <th>...</th>\n",
       "      <td>...</td>\n",
       "    </tr>\n",
       "    <tr>\n",
       "      <th>Lee Kong Chian Natural History Museum</th>\n",
       "      <td>74</td>\n",
       "    </tr>\n",
       "    <tr>\n",
       "      <th>Kuan Yin Thong Hood Cho Temple</th>\n",
       "      <td>51</td>\n",
       "    </tr>\n",
       "    <tr>\n",
       "      <th>Faber Peak</th>\n",
       "      <td>44</td>\n",
       "    </tr>\n",
       "    <tr>\n",
       "      <th>Katong District</th>\n",
       "      <td>29</td>\n",
       "    </tr>\n",
       "    <tr>\n",
       "      <th>Kusu Island</th>\n",
       "      <td>25</td>\n",
       "    </tr>\n",
       "  </tbody>\n",
       "</table>\n",
       "<p>68 rows × 1 columns</p>\n",
       "</div>"
      ],
      "text/plain": [
       "                                       ATTRACTION_NAME\n",
       "Gardens by the Bay                               28749\n",
       "Singapore Zoo                                     8213\n",
       "Singapore Botanic Gardens                         7556\n",
       "Cloud Forest                                      7317\n",
       "Marina Bay Sands Skypark                          6295\n",
       "...                                                ...\n",
       "Lee Kong Chian Natural History Museum               74\n",
       "Kuan Yin Thong Hood Cho Temple                      51\n",
       "Faber Peak                                          44\n",
       "Katong District                                     29\n",
       "Kusu Island                                         25\n",
       "\n",
       "[68 rows x 1 columns]"
      ]
     },
     "execution_count": 42,
     "metadata": {},
     "output_type": "execute_result"
    }
   ],
   "source": [
    "# number of reviews for each attraction\n",
    "df['ATTRACTION_NAME'].value_counts().to_frame()\n",
    "# 68 unique attractions\n",
    "\n",
    "# do we have a cut off for number of reviews to consider an attraction for our model??"
   ]
  },
  {
   "cell_type": "code",
   "execution_count": 41,
   "id": "specific-passenger",
   "metadata": {},
   "outputs": [
    {
     "data": {
      "text/html": [
       "<div>\n",
       "<style scoped>\n",
       "    .dataframe tbody tr th:only-of-type {\n",
       "        vertical-align: middle;\n",
       "    }\n",
       "\n",
       "    .dataframe tbody tr th {\n",
       "        vertical-align: top;\n",
       "    }\n",
       "\n",
       "    .dataframe thead th {\n",
       "        text-align: right;\n",
       "    }\n",
       "</style>\n",
       "<table border=\"1\" class=\"dataframe\">\n",
       "  <thead>\n",
       "    <tr style=\"text-align: right;\">\n",
       "      <th></th>\n",
       "      <th>ATTRACTION_TYPE</th>\n",
       "    </tr>\n",
       "  </thead>\n",
       "  <tbody>\n",
       "    <tr>\n",
       "      <th>Leisure &amp; Recreation</th>\n",
       "      <td>72982</td>\n",
       "    </tr>\n",
       "    <tr>\n",
       "      <th>Nature &amp; Wildlife</th>\n",
       "      <td>18933</td>\n",
       "    </tr>\n",
       "    <tr>\n",
       "      <th>Precinct &amp; Street</th>\n",
       "      <td>18794</td>\n",
       "    </tr>\n",
       "    <tr>\n",
       "      <th>Art, History &amp; Culture</th>\n",
       "      <td>15312</td>\n",
       "    </tr>\n",
       "  </tbody>\n",
       "</table>\n",
       "</div>"
      ],
      "text/plain": [
       "                        ATTRACTION_TYPE\n",
       "Leisure & Recreation              72982\n",
       "Nature & Wildlife                 18933\n",
       "Precinct & Street                 18794\n",
       "Art, History & Culture            15312"
      ]
     },
     "execution_count": 41,
     "metadata": {},
     "output_type": "execute_result"
    }
   ],
   "source": [
    "df['ATTRACTION_TYPE'].value_counts().to_frame()"
   ]
  },
  {
   "cell_type": "code",
   "execution_count": 44,
   "id": "obvious-attack",
   "metadata": {},
   "outputs": [
    {
     "data": {
      "text/html": [
       "<div>\n",
       "<style scoped>\n",
       "    .dataframe tbody tr th:only-of-type {\n",
       "        vertical-align: middle;\n",
       "    }\n",
       "\n",
       "    .dataframe tbody tr th {\n",
       "        vertical-align: top;\n",
       "    }\n",
       "\n",
       "    .dataframe thead th {\n",
       "        text-align: right;\n",
       "    }\n",
       "</style>\n",
       "<table border=\"1\" class=\"dataframe\">\n",
       "  <thead>\n",
       "    <tr style=\"text-align: right;\">\n",
       "      <th></th>\n",
       "      <th>REVIEW_RATING</th>\n",
       "    </tr>\n",
       "  </thead>\n",
       "  <tbody>\n",
       "    <tr>\n",
       "      <th>5</th>\n",
       "      <td>79465</td>\n",
       "    </tr>\n",
       "    <tr>\n",
       "      <th>4</th>\n",
       "      <td>34275</td>\n",
       "    </tr>\n",
       "    <tr>\n",
       "      <th>3</th>\n",
       "      <td>9188</td>\n",
       "    </tr>\n",
       "    <tr>\n",
       "      <th>2</th>\n",
       "      <td>1891</td>\n",
       "    </tr>\n",
       "    <tr>\n",
       "      <th>1</th>\n",
       "      <td>1202</td>\n",
       "    </tr>\n",
       "  </tbody>\n",
       "</table>\n",
       "</div>"
      ],
      "text/plain": [
       "   REVIEW_RATING\n",
       "5          79465\n",
       "4          34275\n",
       "3           9188\n",
       "2           1891\n",
       "1           1202"
      ]
     },
     "execution_count": 44,
     "metadata": {},
     "output_type": "execute_result"
    }
   ],
   "source": [
    "# review distribution\n",
    "\n",
    "df['REVIEW_RATING'].value_counts().to_frame()"
   ]
  },
  {
   "cell_type": "code",
   "execution_count": 54,
   "id": "freelance-strengthening",
   "metadata": {},
   "outputs": [
    {
     "data": {
      "text/html": [
       "<div>\n",
       "<style scoped>\n",
       "    .dataframe tbody tr th:only-of-type {\n",
       "        vertical-align: middle;\n",
       "    }\n",
       "\n",
       "    .dataframe tbody tr th {\n",
       "        vertical-align: top;\n",
       "    }\n",
       "\n",
       "    .dataframe thead th {\n",
       "        text-align: right;\n",
       "    }\n",
       "</style>\n",
       "<table border=\"1\" class=\"dataframe\">\n",
       "  <thead>\n",
       "    <tr style=\"text-align: right;\">\n",
       "      <th></th>\n",
       "      <th>HOME_COUNTRY</th>\n",
       "    </tr>\n",
       "  </thead>\n",
       "  <tbody>\n",
       "    <tr>\n",
       "      <th>Australia</th>\n",
       "      <td>22582</td>\n",
       "    </tr>\n",
       "    <tr>\n",
       "      <th>United Kingdom</th>\n",
       "      <td>17801</td>\n",
       "    </tr>\n",
       "    <tr>\n",
       "      <th>Singapore</th>\n",
       "      <td>13172</td>\n",
       "    </tr>\n",
       "    <tr>\n",
       "      <th>India</th>\n",
       "      <td>10537</td>\n",
       "    </tr>\n",
       "    <tr>\n",
       "      <th>United States</th>\n",
       "      <td>9930</td>\n",
       "    </tr>\n",
       "    <tr>\n",
       "      <th>New Zealand</th>\n",
       "      <td>2766</td>\n",
       "    </tr>\n",
       "    <tr>\n",
       "      <th>Indonesia</th>\n",
       "      <td>2513</td>\n",
       "    </tr>\n",
       "    <tr>\n",
       "      <th>Canada</th>\n",
       "      <td>2338</td>\n",
       "    </tr>\n",
       "    <tr>\n",
       "      <th>Philippines</th>\n",
       "      <td>2049</td>\n",
       "    </tr>\n",
       "    <tr>\n",
       "      <th>Malaysia</th>\n",
       "      <td>1971</td>\n",
       "    </tr>\n",
       "    <tr>\n",
       "      <th>China</th>\n",
       "      <td>1488</td>\n",
       "    </tr>\n",
       "    <tr>\n",
       "      <th>Thailand</th>\n",
       "      <td>1317</td>\n",
       "    </tr>\n",
       "    <tr>\n",
       "      <th>United Arab Emirates</th>\n",
       "      <td>1058</td>\n",
       "    </tr>\n",
       "  </tbody>\n",
       "</table>\n",
       "</div>"
      ],
      "text/plain": [
       "                      HOME_COUNTRY\n",
       "Australia                    22582\n",
       "United Kingdom               17801\n",
       "Singapore                    13172\n",
       "India                        10537\n",
       "United States                 9930\n",
       "New Zealand                   2766\n",
       "Indonesia                     2513\n",
       "Canada                        2338\n",
       "Philippines                   2049\n",
       "Malaysia                      1971\n",
       "China                         1488\n",
       "Thailand                      1317\n",
       "United Arab Emirates          1058"
      ]
     },
     "execution_count": 54,
     "metadata": {},
     "output_type": "execute_result"
    }
   ],
   "source": [
    "# we can limit our recommendations for bigger markets\n",
    "country_dist = df['HOME_COUNTRY'].value_counts().to_frame()\n",
    "# 13 country visitors with over 1000 reviews\n",
    "# 19 with over 500\n",
    "# need to decide cut - off\n",
    "country_dist[country_dist['HOME_COUNTRY'] > 1000]"
   ]
  },
  {
   "cell_type": "code",
   "execution_count": 58,
   "id": "based-completion",
   "metadata": {},
   "outputs": [
    {
     "data": {
      "text/html": [
       "<div>\n",
       "<style scoped>\n",
       "    .dataframe tbody tr th:only-of-type {\n",
       "        vertical-align: middle;\n",
       "    }\n",
       "\n",
       "    .dataframe tbody tr th {\n",
       "        vertical-align: top;\n",
       "    }\n",
       "\n",
       "    .dataframe thead th {\n",
       "        text-align: right;\n",
       "    }\n",
       "</style>\n",
       "<table border=\"1\" class=\"dataframe\">\n",
       "  <thead>\n",
       "    <tr style=\"text-align: right;\">\n",
       "      <th></th>\n",
       "      <th>TRIP_TYPE</th>\n",
       "    </tr>\n",
       "  </thead>\n",
       "  <tbody>\n",
       "    <tr>\n",
       "      <th>Couples</th>\n",
       "      <td>49678</td>\n",
       "    </tr>\n",
       "    <tr>\n",
       "      <th>Family</th>\n",
       "      <td>38327</td>\n",
       "    </tr>\n",
       "    <tr>\n",
       "      <th>Friends</th>\n",
       "      <td>20214</td>\n",
       "    </tr>\n",
       "    <tr>\n",
       "      <th>Solo</th>\n",
       "      <td>13021</td>\n",
       "    </tr>\n",
       "    <tr>\n",
       "      <th>Business</th>\n",
       "      <td>4781</td>\n",
       "    </tr>\n",
       "  </tbody>\n",
       "</table>\n",
       "</div>"
      ],
      "text/plain": [
       "          TRIP_TYPE\n",
       "Couples       49678\n",
       "Family        38327\n",
       "Friends       20214\n",
       "Solo          13021\n",
       "Business       4781"
      ]
     },
     "execution_count": 58,
     "metadata": {},
     "output_type": "execute_result"
    }
   ],
   "source": [
    "df['TRIP_TYPE'].value_counts().to_frame()"
   ]
  },
  {
   "cell_type": "code",
   "execution_count": 1,
   "id": "likely-librarian",
   "metadata": {},
   "outputs": [],
   "source": [
    "# proposal 1: To design top 5/10 attractions and 1 Attraction type for a segement based on home country, trip type\n",
    "\n",
    "# proposal 2: what exactly about an attraction people like or dislike\n",
    "\n",
    "# proposal 3: Rating Prediction\n",
    "\n",
    "\n",
    "\n",
    "## To do list\n",
    "\n",
    "# Topic Modeling on Reviews\n",
    "\n",
    "# Sentiment analysis on review title and body\n",
    "# does rating fairly reflect sentiment ?\n",
    "\n"
   ]
  },
  {
   "cell_type": "code",
   "execution_count": null,
   "id": "monthly-remainder",
   "metadata": {},
   "outputs": [],
   "source": [
    "# can add review length column"
   ]
  }
 ],
 "metadata": {
  "kernelspec": {
   "display_name": "Python 3",
   "language": "python",
   "name": "python3"
  },
  "language_info": {
   "codemirror_mode": {
    "name": "ipython",
    "version": 3
   },
   "file_extension": ".py",
   "mimetype": "text/x-python",
   "name": "python",
   "nbconvert_exporter": "python",
   "pygments_lexer": "ipython3",
   "version": "3.7.7"
  }
 },
 "nbformat": 4,
 "nbformat_minor": 5
}
