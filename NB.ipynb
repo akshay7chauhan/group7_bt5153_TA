{
 "cells": [
  {
   "cell_type": "code",
   "execution_count": 1,
   "id": "neutral-responsibility",
   "metadata": {},
   "outputs": [],
   "source": [
    "import pandas as pd"
   ]
  },
  {
   "cell_type": "code",
   "execution_count": 2,
   "id": "angry-religion",
   "metadata": {},
   "outputs": [],
   "source": [
    "df_original = pd.read_csv('singapore_trip_advisor_data_cleaned.csv')"
   ]
  },
  {
   "cell_type": "code",
   "execution_count": 3,
   "id": "legal-period",
   "metadata": {},
   "outputs": [
    {
     "data": {
      "text/html": [
       "<div>\n",
       "<style scoped>\n",
       "    .dataframe tbody tr th:only-of-type {\n",
       "        vertical-align: middle;\n",
       "    }\n",
       "\n",
       "    .dataframe tbody tr th {\n",
       "        vertical-align: top;\n",
       "    }\n",
       "\n",
       "    .dataframe thead th {\n",
       "        text-align: right;\n",
       "    }\n",
       "</style>\n",
       "<table border=\"1\" class=\"dataframe\">\n",
       "  <thead>\n",
       "    <tr style=\"text-align: right;\">\n",
       "      <th></th>\n",
       "      <th>REVIEW_INDEX</th>\n",
       "      <th>REVIEW_DATE</th>\n",
       "      <th>REVIEW_RATING</th>\n",
       "      <th>REVIEW_TITLE</th>\n",
       "      <th>REVIEW_BODY</th>\n",
       "      <th>DATE_OF_EXPERIENCE</th>\n",
       "      <th>TRIP_TYPE</th>\n",
       "      <th>REVIEW_CRAWLED_TIME</th>\n",
       "      <th>REVIEWER_NAME</th>\n",
       "      <th>HOME_COUNTRY</th>\n",
       "      <th>ATTRACTION_NAME</th>\n",
       "      <th>ATTRACTION_TYPE</th>\n",
       "      <th>ADDRESS</th>\n",
       "      <th>clean_text</th>\n",
       "    </tr>\n",
       "  </thead>\n",
       "  <tbody>\n",
       "    <tr>\n",
       "      <th>0</th>\n",
       "      <td>741832336</td>\n",
       "      <td>2020-01-29 00:00:00.000</td>\n",
       "      <td>5</td>\n",
       "      <td>Fabulous</td>\n",
       "      <td>Fabulous experience and an unforgettable day o...</td>\n",
       "      <td>2020-01-01 00:00:00.000</td>\n",
       "      <td>Couples</td>\n",
       "      <td>2020-01-29 12:01:27.012</td>\n",
       "      <td>Dreinog</td>\n",
       "      <td>United Kingdom</td>\n",
       "      <td>Cloud Forest</td>\n",
       "      <td>Leisure &amp; Recreation</td>\n",
       "      <td>18 Marina Gardens Drive | 18 Marina Gardens Dr...</td>\n",
       "      <td>fabulous experience unforgettable day singapor...</td>\n",
       "    </tr>\n",
       "    <tr>\n",
       "      <th>1</th>\n",
       "      <td>741819214</td>\n",
       "      <td>2020-01-29 00:00:00.000</td>\n",
       "      <td>5</td>\n",
       "      <td>Stunning</td>\n",
       "      <td>I wasnâ€™t sure what to expect but this was ab...</td>\n",
       "      <td>2020-01-01 00:00:00.000</td>\n",
       "      <td>Family</td>\n",
       "      <td>2020-01-29 11:30:13.663</td>\n",
       "      <td>3mcglynns</td>\n",
       "      <td>Australia</td>\n",
       "      <td>Cloud Forest</td>\n",
       "      <td>Leisure &amp; Recreation</td>\n",
       "      <td>18 Marina Gardens Drive | 18 Marina Gardens Dr...</td>\n",
       "      <td>wasnatmt sure expect absolutely beautiful moth...</td>\n",
       "    </tr>\n",
       "    <tr>\n",
       "      <th>2</th>\n",
       "      <td>741818972</td>\n",
       "      <td>2020-01-29 00:00:00.000</td>\n",
       "      <td>3</td>\n",
       "      <td>Another Chinatown</td>\n",
       "      <td>As every major city worldwide seems to have a ...</td>\n",
       "      <td>2020-01-01 00:00:00.000</td>\n",
       "      <td>Couples</td>\n",
       "      <td>2020-01-30 11:53:44.082</td>\n",
       "      <td>MR_Travels1920</td>\n",
       "      <td>United Kingdom</td>\n",
       "      <td>Chinatown</td>\n",
       "      <td>Precinct &amp; Street</td>\n",
       "      <td>Crot | Trengganu, Singapore 048942, Singapore</td>\n",
       "      <td>every major city worldwide seem chinatown anot...</td>\n",
       "    </tr>\n",
       "    <tr>\n",
       "      <th>3</th>\n",
       "      <td>741881009</td>\n",
       "      <td>2020-01-29 00:00:00.000</td>\n",
       "      <td>4</td>\n",
       "      <td>Good lively place to visit</td>\n",
       "      <td>Busy lively place in the evening I visited. Go...</td>\n",
       "      <td>2020-01-01 00:00:00.000</td>\n",
       "      <td>Solo</td>\n",
       "      <td>2020-01-30 12:34:12.312</td>\n",
       "      <td>RaviA651</td>\n",
       "      <td>United States</td>\n",
       "      <td>Chinatown</td>\n",
       "      <td>Precinct &amp; Street</td>\n",
       "      <td>Crot | Trengganu, Singapore 048942, Singapore</td>\n",
       "      <td>busy lively place even visit go empty stomach ...</td>\n",
       "    </tr>\n",
       "    <tr>\n",
       "      <th>4</th>\n",
       "      <td>741827762</td>\n",
       "      <td>2020-01-29 00:00:00.000</td>\n",
       "      <td>5</td>\n",
       "      <td>Great experience</td>\n",
       "      <td>Fabulous location and atmosphere. We only stop...</td>\n",
       "      <td>2020-01-01 00:00:00.000</td>\n",
       "      <td>Couples</td>\n",
       "      <td>2020-01-29 23:02:07.201</td>\n",
       "      <td>Dreinog</td>\n",
       "      <td>United Kingdom</td>\n",
       "      <td>Marina Bay</td>\n",
       "      <td>Precinct &amp; Street</td>\n",
       "      <td>Marina Boulevard, Singapore 018980, Singapore</td>\n",
       "      <td>fabulous location atmosphere stop day return s...</td>\n",
       "    </tr>\n",
       "  </tbody>\n",
       "</table>\n",
       "</div>"
      ],
      "text/plain": [
       "   REVIEW_INDEX              REVIEW_DATE  REVIEW_RATING  \\\n",
       "0     741832336  2020-01-29 00:00:00.000              5   \n",
       "1     741819214  2020-01-29 00:00:00.000              5   \n",
       "2     741818972  2020-01-29 00:00:00.000              3   \n",
       "3     741881009  2020-01-29 00:00:00.000              4   \n",
       "4     741827762  2020-01-29 00:00:00.000              5   \n",
       "\n",
       "                 REVIEW_TITLE  \\\n",
       "0                    Fabulous   \n",
       "1                    Stunning   \n",
       "2           Another Chinatown   \n",
       "3  Good lively place to visit   \n",
       "4            Great experience   \n",
       "\n",
       "                                         REVIEW_BODY       DATE_OF_EXPERIENCE  \\\n",
       "0  Fabulous experience and an unforgettable day o...  2020-01-01 00:00:00.000   \n",
       "1  I wasnâ€™t sure what to expect but this was ab...  2020-01-01 00:00:00.000   \n",
       "2  As every major city worldwide seems to have a ...  2020-01-01 00:00:00.000   \n",
       "3  Busy lively place in the evening I visited. Go...  2020-01-01 00:00:00.000   \n",
       "4  Fabulous location and atmosphere. We only stop...  2020-01-01 00:00:00.000   \n",
       "\n",
       "  TRIP_TYPE      REVIEW_CRAWLED_TIME   REVIEWER_NAME    HOME_COUNTRY  \\\n",
       "0   Couples  2020-01-29 12:01:27.012         Dreinog  United Kingdom   \n",
       "1    Family  2020-01-29 11:30:13.663       3mcglynns       Australia   \n",
       "2   Couples  2020-01-30 11:53:44.082  MR_Travels1920  United Kingdom   \n",
       "3      Solo  2020-01-30 12:34:12.312        RaviA651   United States   \n",
       "4   Couples  2020-01-29 23:02:07.201         Dreinog  United Kingdom   \n",
       "\n",
       "  ATTRACTION_NAME       ATTRACTION_TYPE  \\\n",
       "0    Cloud Forest  Leisure & Recreation   \n",
       "1    Cloud Forest  Leisure & Recreation   \n",
       "2       Chinatown     Precinct & Street   \n",
       "3       Chinatown     Precinct & Street   \n",
       "4      Marina Bay     Precinct & Street   \n",
       "\n",
       "                                             ADDRESS  \\\n",
       "0  18 Marina Gardens Drive | 18 Marina Gardens Dr...   \n",
       "1  18 Marina Gardens Drive | 18 Marina Gardens Dr...   \n",
       "2      Crot | Trengganu, Singapore 048942, Singapore   \n",
       "3      Crot | Trengganu, Singapore 048942, Singapore   \n",
       "4      Marina Boulevard, Singapore 018980, Singapore   \n",
       "\n",
       "                                          clean_text  \n",
       "0  fabulous experience unforgettable day singapor...  \n",
       "1  wasnatmt sure expect absolutely beautiful moth...  \n",
       "2  every major city worldwide seem chinatown anot...  \n",
       "3  busy lively place even visit go empty stomach ...  \n",
       "4  fabulous location atmosphere stop day return s...  "
      ]
     },
     "execution_count": 3,
     "metadata": {},
     "output_type": "execute_result"
    }
   ],
   "source": [
    "df_original.head()"
   ]
  },
  {
   "cell_type": "code",
   "execution_count": 4,
   "id": "graduate-bryan",
   "metadata": {},
   "outputs": [],
   "source": [
    "from sklearn.feature_extraction.text import CountVectorizer,TfidfVectorizer\n",
    "from sklearn.model_selection import GridSearchCV\n",
    "from sklearn.naive_bayes import MultinomialNB\n",
    "from sklearn.metrics import classification_report,f1_score,roc_auc_score,confusion_matrix,plot_confusion_matrix,roc_curve,auc\n",
    "from sklearn.model_selection import train_test_split"
   ]
  },
  {
   "cell_type": "code",
   "execution_count": 5,
   "id": "suitable-throat",
   "metadata": {},
   "outputs": [],
   "source": [
    "import numpy as np\n",
    "size = 65000        # sample size\n",
    "replace = True  # without replacement\n",
    "fn = lambda obj: obj.loc[np.random.choice(obj.index, size, replace),:]\n",
    "df = df_original.groupby('REVIEW_RATING', as_index=False).apply(fn)\n",
    "\n",
    "\n",
    "\n",
    "\n",
    "    \n",
    "train_df,test_df = train_test_split(df,test_size = 0.3)\n"
   ]
  },
  {
   "cell_type": "code",
   "execution_count": 6,
   "id": "textile-cause",
   "metadata": {},
   "outputs": [
    {
     "data": {
      "text/plain": [
       "((227500, 14), (97500, 14))"
      ]
     },
     "execution_count": 6,
     "metadata": {},
     "output_type": "execute_result"
    }
   ],
   "source": [
    "train_df.shape,test_df.shape"
   ]
  },
  {
   "cell_type": "code",
   "execution_count": 7,
   "id": "supported-appreciation",
   "metadata": {},
   "outputs": [],
   "source": [
    "## max df from 1 to 0.08 - accuracy unaffected\n",
    "BOW = TfidfVectorizer()\n",
    "\n",
    "X_train = train_df['clean_text']\n",
    "y_train = train_df['REVIEW_RATING']\n",
    "train_mat = BOW.fit_transform(X_train)\n"
   ]
  },
  {
   "cell_type": "code",
   "execution_count": 8,
   "id": "underlying-wilson",
   "metadata": {},
   "outputs": [],
   "source": [
    "mnb = MultinomialNB(alpha=0.4)"
   ]
  },
  {
   "cell_type": "code",
   "execution_count": 9,
   "id": "published-recovery",
   "metadata": {},
   "outputs": [
    {
     "data": {
      "text/plain": [
       "GridSearchCV(cv=5, estimator=MultinomialNB(alpha=0.4),\n",
       "             param_grid={'alpha': [0.1, 0.2, 0.3, 0.4, 0.5, 0.6, 0.7, 0.8, 0.9,\n",
       "                                   1]})"
      ]
     },
     "execution_count": 9,
     "metadata": {},
     "output_type": "execute_result"
    }
   ],
   "source": [
    "param_grid = {\n",
    "    'alpha':[0.1,0.2,0.3,0.4,0.5,0.6,0.7,0.8,0.9,1]\n",
    "}\n",
    "mnb = GridSearchCV(mnb,param_grid=param_grid,cv=5,verbose=0)\n",
    "mnb.fit(train_mat,y_train)"
   ]
  },
  {
   "cell_type": "code",
   "execution_count": 10,
   "id": "republican-prescription",
   "metadata": {},
   "outputs": [
    {
     "data": {
      "text/plain": [
       "{'alpha': 0.1}"
      ]
     },
     "execution_count": 10,
     "metadata": {},
     "output_type": "execute_result"
    }
   ],
   "source": [
    "best_mnb = mnb.best_estimator_\n",
    "mnb.best_params_"
   ]
  },
  {
   "cell_type": "code",
   "execution_count": 11,
   "id": "attempted-italy",
   "metadata": {},
   "outputs": [
    {
     "name": "stdout",
     "output_type": "stream",
     "text": [
      "              precision    recall  f1-score   support\n",
      "\n",
      "           1       0.91      0.92      0.91     45516\n",
      "           2       0.86      0.89      0.87     45458\n",
      "           3       0.75      0.73      0.74     45507\n",
      "           4       0.69      0.61      0.65     45608\n",
      "           5       0.69      0.75      0.72     45411\n",
      "\n",
      "    accuracy                           0.78    227500\n",
      "   macro avg       0.78      0.78      0.78    227500\n",
      "weighted avg       0.78      0.78      0.78    227500\n",
      "\n"
     ]
    }
   ],
   "source": [
    "print(classification_report(y_train,best_mnb.predict(train_mat)))"
   ]
  },
  {
   "cell_type": "code",
   "execution_count": 12,
   "id": "creative-plant",
   "metadata": {},
   "outputs": [],
   "source": [
    "X_test = test_df['clean_text']\n",
    "y_test = test_df['REVIEW_RATING']\n",
    "test_mat = BOW.transform(X_test)"
   ]
  },
  {
   "cell_type": "code",
   "execution_count": 13,
   "id": "simplified-convert",
   "metadata": {},
   "outputs": [
    {
     "name": "stdout",
     "output_type": "stream",
     "text": [
      "              precision    recall  f1-score   support\n",
      "\n",
      "           1       0.90      0.92      0.91     19484\n",
      "           2       0.85      0.88      0.86     19542\n",
      "           3       0.72      0.71      0.71     19493\n",
      "           4       0.62      0.55      0.59     19392\n",
      "           5       0.65      0.69      0.67     19589\n",
      "\n",
      "    accuracy                           0.75     97500\n",
      "   macro avg       0.75      0.75      0.75     97500\n",
      "weighted avg       0.75      0.75      0.75     97500\n",
      "\n"
     ]
    }
   ],
   "source": [
    "print(classification_report(y_test,best_mnb.predict(test_mat)))"
   ]
  },
  {
   "cell_type": "code",
   "execution_count": 14,
   "id": "original-yahoo",
   "metadata": {},
   "outputs": [
    {
     "data": {
      "image/png": "[encoded data removed]",
      "text/plain": [
       "<Figure size 432x288 with 2 Axes>"
      ]
     },
     "metadata": {
      "needs_background": "light"
     },
     "output_type": "display_data"
    }
   ],
   "source": [
    "plot_confusion_matrix(best_mnb,test_mat,y_test);"
   ]
  },
  {
   "cell_type": "code",
   "execution_count": 15,
   "id": "illegal-venezuela",
   "metadata": {},
   "outputs": [
    {
     "data": {
      "text/plain": [
       "array([[17915,   598,   483,   211,   277],\n",
       "       [  557, 17206,  1292,   149,   338],\n",
       "       [  800,  1448, 13802,  1958,  1485],\n",
       "       [  386,   654,  2403, 10753,  5196],\n",
       "       [  254,   375,  1242,  4280, 13438]])"
      ]
     },
     "execution_count": 15,
     "metadata": {},
     "output_type": "execute_result"
    }
   ],
   "source": [
    "confusion_matrix(y_test,mnb.predict(test_mat))"
   ]
  },
  {
   "cell_type": "code",
   "execution_count": 16,
   "id": "cosmetic-showcase",
   "metadata": {},
   "outputs": [
    {
     "data": {
      "image/png": "[encoded data removed]",
      "text/plain": [
       "<Figure size 432x288 with 1 Axes>"
      ]
     },
     "metadata": {
      "needs_background": "light"
     },
     "output_type": "display_data"
    }
   ],
   "source": [
    "import matplotlib.pyplot as plt \n",
    "for i in range(1,6):\n",
    "    fpr, tpr, threshold = roc_curve(np.array(y_test),mnb.predict_proba(test_mat)[:,i-1],pos_label=i)\n",
    "    auc_score = auc(fpr,tpr)\n",
    "    plt.plot(fpr,tpr,label = str(i)+' star :'+str(np.round(auc_score,5)))\n",
    "    plt.xlabel('False positive rate (FPR)')\n",
    "    plt.ylabel('True positive rate (TPR)')\n",
    "    plt.legend()\n",
    "\n",
    "plt.title('ROC curve (One vs all classification)')\n",
    "plt.show()\n",
    "\n"
   ]
  },
  {
   "cell_type": "code",
   "execution_count": 17,
   "id": "naughty-hardware",
   "metadata": {},
   "outputs": [
    {
     "data": {
      "text/plain": [
       "0.9416892807928481"
      ]
     },
     "execution_count": 17,
     "metadata": {},
     "output_type": "execute_result"
    }
   ],
   "source": [
    "## overall\n",
    "roc_auc_score(y_test,mnb.predict_proba(test_mat),multi_class='ovr')"
   ]
  },
  {
   "cell_type": "code",
   "execution_count": null,
   "id": "pursuant-roman",
   "metadata": {},
   "outputs": [],
   "source": []
  },
  {
   "cell_type": "code",
   "execution_count": null,
   "id": "opening-accountability",
   "metadata": {},
   "outputs": [],
   "source": []
  }
 ],
 "metadata": {
  "kernelspec": {
   "display_name": "Python 3",
   "language": "python",
   "name": "python3"
  },
  "language_info": {
   "codemirror_mode": {
    "name": "ipython",
    "version": 3
   },
   "file_extension": ".py",
   "mimetype": "text/x-python",
   "name": "python",
   "nbconvert_exporter": "python",
   "pygments_lexer": "ipython3",
   "version": "3.7.7"
  }
 },
 "nbformat": 4,
 "nbformat_minor": 5
}
