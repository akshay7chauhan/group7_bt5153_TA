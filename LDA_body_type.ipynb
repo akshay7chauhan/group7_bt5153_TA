{
 "cells": [
  {
   "cell_type": "code",
   "execution_count": 2,
   "metadata": {
    "scrolled": true
   },
   "outputs": [],
   "source": [
    "from sklearn.feature_extraction.text import TfidfVectorizer \n",
    "from sklearn.decomposition import LatentDirichletAllocation \n",
    "import numpy as np\n",
    "import pandas as pd\n",
    "import pickle\n",
    "# import texthero as hero"
   ]
  },
  {
   "cell_type": "code",
   "execution_count": 3,
   "metadata": {},
   "outputs": [],
   "source": [
    "data=pd.read_csv('singapore_trip_advisor_data_cleaned.csv')"
   ]
  },
  {
   "cell_type": "code",
   "execution_count": 4,
   "metadata": {},
   "outputs": [
    {
     "data": {
      "text/html": [
       "<div>\n",
       "<style scoped>\n",
       "    .dataframe tbody tr th:only-of-type {\n",
       "        vertical-align: middle;\n",
       "    }\n",
       "\n",
       "    .dataframe tbody tr th {\n",
       "        vertical-align: top;\n",
       "    }\n",
       "\n",
       "    .dataframe thead th {\n",
       "        text-align: right;\n",
       "    }\n",
       "</style>\n",
       "<table border=\"1\" class=\"dataframe\">\n",
       "  <thead>\n",
       "    <tr style=\"text-align: right;\">\n",
       "      <th></th>\n",
       "      <th>REVIEW_INDEX</th>\n",
       "      <th>REVIEW_DATE</th>\n",
       "      <th>REVIEW_RATING</th>\n",
       "      <th>REVIEW_TITLE</th>\n",
       "      <th>REVIEW_BODY</th>\n",
       "      <th>DATE_OF_EXPERIENCE</th>\n",
       "      <th>TRIP_TYPE</th>\n",
       "      <th>REVIEW_CRAWLED_TIME</th>\n",
       "      <th>REVIEWER_NAME</th>\n",
       "      <th>HOME_COUNTRY</th>\n",
       "      <th>ATTRACTION_NAME</th>\n",
       "      <th>ATTRACTION_TYPE</th>\n",
       "      <th>ADDRESS</th>\n",
       "      <th>clean_text</th>\n",
       "    </tr>\n",
       "  </thead>\n",
       "  <tbody>\n",
       "    <tr>\n",
       "      <th>0</th>\n",
       "      <td>741832336</td>\n",
       "      <td>2020-01-29 00:00:00.000</td>\n",
       "      <td>5</td>\n",
       "      <td>Fabulous</td>\n",
       "      <td>Fabulous experience and an unforgettable day o...</td>\n",
       "      <td>2020-01-01 00:00:00.000</td>\n",
       "      <td>Couples</td>\n",
       "      <td>2020-01-29 12:01:27.012</td>\n",
       "      <td>Dreinog</td>\n",
       "      <td>United Kingdom</td>\n",
       "      <td>Cloud Forest</td>\n",
       "      <td>Leisure &amp; Recreation</td>\n",
       "      <td>18 Marina Gardens Drive | 18 Marina Gardens Dr...</td>\n",
       "      <td>fabulous experience unforgettable day singapor...</td>\n",
       "    </tr>\n",
       "    <tr>\n",
       "      <th>1</th>\n",
       "      <td>741819214</td>\n",
       "      <td>2020-01-29 00:00:00.000</td>\n",
       "      <td>5</td>\n",
       "      <td>Stunning</td>\n",
       "      <td>I wasnâ€™t sure what to expect but this was ab...</td>\n",
       "      <td>2020-01-01 00:00:00.000</td>\n",
       "      <td>Family</td>\n",
       "      <td>2020-01-29 11:30:13.663</td>\n",
       "      <td>3mcglynns</td>\n",
       "      <td>Australia</td>\n",
       "      <td>Cloud Forest</td>\n",
       "      <td>Leisure &amp; Recreation</td>\n",
       "      <td>18 Marina Gardens Drive | 18 Marina Gardens Dr...</td>\n",
       "      <td>wasnatmt sure expect absolutely beautiful moth...</td>\n",
       "    </tr>\n",
       "    <tr>\n",
       "      <th>2</th>\n",
       "      <td>741818972</td>\n",
       "      <td>2020-01-29 00:00:00.000</td>\n",
       "      <td>3</td>\n",
       "      <td>Another Chinatown</td>\n",
       "      <td>As every major city worldwide seems to have a ...</td>\n",
       "      <td>2020-01-01 00:00:00.000</td>\n",
       "      <td>Couples</td>\n",
       "      <td>2020-01-30 11:53:44.082</td>\n",
       "      <td>MR_Travels1920</td>\n",
       "      <td>United Kingdom</td>\n",
       "      <td>Chinatown</td>\n",
       "      <td>Precinct &amp; Street</td>\n",
       "      <td>Crot | Trengganu, Singapore 048942, Singapore</td>\n",
       "      <td>every major city worldwide seem chinatown anot...</td>\n",
       "    </tr>\n",
       "    <tr>\n",
       "      <th>3</th>\n",
       "      <td>741881009</td>\n",
       "      <td>2020-01-29 00:00:00.000</td>\n",
       "      <td>4</td>\n",
       "      <td>Good lively place to visit</td>\n",
       "      <td>Busy lively place in the evening I visited. Go...</td>\n",
       "      <td>2020-01-01 00:00:00.000</td>\n",
       "      <td>Solo</td>\n",
       "      <td>2020-01-30 12:34:12.312</td>\n",
       "      <td>RaviA651</td>\n",
       "      <td>United States</td>\n",
       "      <td>Chinatown</td>\n",
       "      <td>Precinct &amp; Street</td>\n",
       "      <td>Crot | Trengganu, Singapore 048942, Singapore</td>\n",
       "      <td>busy lively place even visit go empty stomach ...</td>\n",
       "    </tr>\n",
       "    <tr>\n",
       "      <th>4</th>\n",
       "      <td>741827762</td>\n",
       "      <td>2020-01-29 00:00:00.000</td>\n",
       "      <td>5</td>\n",
       "      <td>Great experience</td>\n",
       "      <td>Fabulous location and atmosphere. We only stop...</td>\n",
       "      <td>2020-01-01 00:00:00.000</td>\n",
       "      <td>Couples</td>\n",
       "      <td>2020-01-29 23:02:07.201</td>\n",
       "      <td>Dreinog</td>\n",
       "      <td>United Kingdom</td>\n",
       "      <td>Marina Bay</td>\n",
       "      <td>Precinct &amp; Street</td>\n",
       "      <td>Marina Boulevard, Singapore 018980, Singapore</td>\n",
       "      <td>fabulous location atmosphere stop day return s...</td>\n",
       "    </tr>\n",
       "  </tbody>\n",
       "</table>\n",
       "</div>"
      ],
      "text/plain": [
       "   REVIEW_INDEX              REVIEW_DATE  REVIEW_RATING  \\\n",
       "0     741832336  2020-01-29 00:00:00.000              5   \n",
       "1     741819214  2020-01-29 00:00:00.000              5   \n",
       "2     741818972  2020-01-29 00:00:00.000              3   \n",
       "3     741881009  2020-01-29 00:00:00.000              4   \n",
       "4     741827762  2020-01-29 00:00:00.000              5   \n",
       "\n",
       "                 REVIEW_TITLE  \\\n",
       "0                    Fabulous   \n",
       "1                    Stunning   \n",
       "2           Another Chinatown   \n",
       "3  Good lively place to visit   \n",
       "4            Great experience   \n",
       "\n",
       "                                         REVIEW_BODY       DATE_OF_EXPERIENCE  \\\n",
       "0  Fabulous experience and an unforgettable day o...  2020-01-01 00:00:00.000   \n",
       "1  I wasnâ€™t sure what to expect but this was ab...  2020-01-01 00:00:00.000   \n",
       "2  As every major city worldwide seems to have a ...  2020-01-01 00:00:00.000   \n",
       "3  Busy lively place in the evening I visited. Go...  2020-01-01 00:00:00.000   \n",
       "4  Fabulous location and atmosphere. We only stop...  2020-01-01 00:00:00.000   \n",
       "\n",
       "  TRIP_TYPE      REVIEW_CRAWLED_TIME   REVIEWER_NAME    HOME_COUNTRY  \\\n",
       "0   Couples  2020-01-29 12:01:27.012         Dreinog  United Kingdom   \n",
       "1    Family  2020-01-29 11:30:13.663       3mcglynns       Australia   \n",
       "2   Couples  2020-01-30 11:53:44.082  MR_Travels1920  United Kingdom   \n",
       "3      Solo  2020-01-30 12:34:12.312        RaviA651   United States   \n",
       "4   Couples  2020-01-29 23:02:07.201         Dreinog  United Kingdom   \n",
       "\n",
       "  ATTRACTION_NAME       ATTRACTION_TYPE  \\\n",
       "0    Cloud Forest  Leisure & Recreation   \n",
       "1    Cloud Forest  Leisure & Recreation   \n",
       "2       Chinatown     Precinct & Street   \n",
       "3       Chinatown     Precinct & Street   \n",
       "4      Marina Bay     Precinct & Street   \n",
       "\n",
       "                                             ADDRESS  \\\n",
       "0  18 Marina Gardens Drive | 18 Marina Gardens Dr...   \n",
       "1  18 Marina Gardens Drive | 18 Marina Gardens Dr...   \n",
       "2      Crot | Trengganu, Singapore 048942, Singapore   \n",
       "3      Crot | Trengganu, Singapore 048942, Singapore   \n",
       "4      Marina Boulevard, Singapore 018980, Singapore   \n",
       "\n",
       "                                          clean_text  \n",
       "0  fabulous experience unforgettable day singapor...  \n",
       "1  wasnatmt sure expect absolutely beautiful moth...  \n",
       "2  every major city worldwide seem chinatown anot...  \n",
       "3  busy lively place even visit go empty stomach ...  \n",
       "4  fabulous location atmosphere stop day return s...  "
      ]
     },
     "execution_count": 4,
     "metadata": {},
     "output_type": "execute_result"
    }
   ],
   "source": [
    "data.head()"
   ]
  },
  {
   "cell_type": "code",
   "execution_count": 5,
   "metadata": {},
   "outputs": [],
   "source": [
    "atypes = list(data['ATTRACTION_TYPE'].value_counts().index)"
   ]
  },
  {
   "cell_type": "code",
   "execution_count": 6,
   "metadata": {},
   "outputs": [
    {
     "data": {
      "text/plain": [
       "Leisure & Recreation      0.578301\n",
       "Precinct & Street         0.153441\n",
       "Nature & Wildlife         0.144479\n",
       "Art, History & Culture    0.123779\n",
       "Name: ATTRACTION_TYPE, dtype: float64"
      ]
     },
     "execution_count": 6,
     "metadata": {},
     "output_type": "execute_result"
    }
   ],
   "source": [
    "data['ATTRACTION_TYPE'].value_counts(normalize = True)"
   ]
  },
  {
   "cell_type": "code",
   "execution_count": 7,
   "metadata": {},
   "outputs": [
    {
     "data": {
      "text/plain": [
       "(array([0, 1, 2, 3]),\n",
       " [Text(0, 0, 'Leisure & Recreation'),\n",
       "  Text(1, 0, 'Precinct & Street'),\n",
       "  Text(2, 0, 'Art, History & Culture'),\n",
       "  Text(3, 0, 'Nature & Wildlife')])"
      ]
     },
     "execution_count": 7,
     "metadata": {},
     "output_type": "execute_result"
    },
    {
     "data": {
      "image/png": "[encoded data removed]",
      "text/plain": [
       "<Figure size 432x288 with 1 Axes>"
      ]
     },
     "metadata": {
      "needs_background": "light"
     },
     "output_type": "display_data"
    }
   ],
   "source": [
    "import seaborn as sns\n",
    "import matplotlib.pyplot as plt\n",
    "\n",
    "sns.countplot(x = data['ATTRACTION_TYPE'])\n",
    "plt.xticks(rotation = 90)"
   ]
  },
  {
   "cell_type": "markdown",
   "metadata": {},
   "source": [
    "## Leisure & Recreation"
   ]
  },
  {
   "cell_type": "code",
   "execution_count": 8,
   "metadata": {},
   "outputs": [],
   "source": [
    "df0 = data[data['ATTRACTION_TYPE']==atypes[0]]\n",
    "# vectorize text data\n",
    "vectorizer = TfidfVectorizer()\n",
    "vectorizer.fit(df0['clean_text'])\n",
    "\n",
    "# save the model to disk\n",
    "#filename_vec = 'vectorizer_model.sav'\n",
    "#pickle.dump(vectorizer, open(filename_vec, 'wb'))\n",
    "\n",
    "# transform the text into vectorizer\n",
    "X0 = vectorizer.transform(df0['clean_text'])\n"
   ]
  },
  {
   "cell_type": "code",
   "execution_count": 9,
   "metadata": {},
   "outputs": [
    {
     "name": "stderr",
     "output_type": "stream",
     "text": [
      "100%|███████████████████████████████████████████████████████████████████████████████████| 8/8 [26:41<00:00, 200.16s/it]\n"
     ]
    }
   ],
   "source": [
    "from sklearn.cluster import KMeans\n",
    "from sklearn.metrics import silhouette_score\n",
    "from tqdm import tqdm\n",
    "\n",
    "sil0 = []\n",
    "sse0 = []\n",
    "kmax = 9\n",
    "\n",
    "# dissimilarity would not be defined for a single cluster, thus, minimum number of clusters should be 2\n",
    "for k in tqdm(range(2, kmax+1)):\n",
    "    kmeans = KMeans(n_clusters = k).fit(X0)\n",
    "    labels = kmeans.labels_\n",
    "    sse0.append(kmeans.inertia_)\n",
    "    sil0.append(silhouette_score(X0, labels, metric = 'euclidean'))"
   ]
  },
  {
   "cell_type": "code",
   "execution_count": 10,
   "metadata": {},
   "outputs": [
    {
     "data": {
      "image/png": "[encoded data removed]",
      "text/plain": [
       "<Figure size 720x360 with 1 Axes>"
      ]
     },
     "metadata": {
      "needs_background": "light"
     },
     "output_type": "display_data"
    },
    {
     "data": {
      "image/png": "[encoded data removed]",
      "text/plain": [
       "<Figure size 432x288 with 1 Axes>"
      ]
     },
     "metadata": {
      "needs_background": "light"
     },
     "output_type": "display_data"
    }
   ],
   "source": [
    "plt.figure(figsize = (10,5))\n",
    "sns.lineplot(x = list(range(2,kmax+1)), y = sil0)\n",
    "plt.xlabel('Number of Clusters')\n",
    "plt.ylabel('Silhouette Scores')\n",
    "plt.show()\n",
    "sns.lineplot(x = list(range(2,kmax+1)), y = sse0)\n",
    "plt.show()"
   ]
  },
  {
   "cell_type": "code",
   "execution_count": 11,
   "metadata": {},
   "outputs": [
    {
     "name": "stdout",
     "output_type": "stream",
     "text": [
      "Attraction type: Leisure & Recreation\n",
      "Topic #0:\n",
      "expect tropical outdoor escape wide waterfront humidity hang greenhouse greenery\n",
      "Attraction type: Leisure & Recreation\n",
      "Topic #1:\n",
      "outstanding tranquil trail concert vip creative tram sightsee adventure concept\n",
      "Attraction type: Leisure & Recreation\n",
      "Topic #2:\n",
      "view ride car flyer get sentosa cable bar hotel ticket\n",
      "Attraction type: Leisure & Recreation\n",
      "Topic #3:\n",
      "road boat conditioning east bike expectation coast keen beach cycling\n",
      "Attraction type: Leisure & Recreation\n",
      "Topic #4:\n",
      "mountain cold season control fauna work let old jacket exit\n",
      "Attraction type: Leisure & Recreation\n",
      "Topic #5:\n",
      "garden visit place see singapore walk not flower dome go\n"
     ]
    }
   ],
   "source": [
    "# generate topics for each attraction type\n",
    "# build LDA model\n",
    "lda0 = LatentDirichletAllocation(n_components=6, max_iter=10, learning_method='online', learning_offset=5, random_state=2017)\n",
    "lda0.fit(X0)\n",
    "\n",
    "# save the model to disk\n",
    "#filename_lda = 'lda_model.sav'\n",
    "#pickle.dump(lda, open(filename_lda, 'wb'))\n",
    "\n",
    "feature_names0 = np.array(vectorizer.get_feature_names())\n",
    "for topic_idx, topic in enumerate(lda0.components_):\n",
    "    print('Attraction type: {}'.format(atypes[0]))\n",
    "    print(\"Topic #%d:\" % topic_idx)\n",
    "    print(\" \".join([feature_names0[i] for i in topic.argsort()[:-10 - 1:-1]]))"
   ]
  },
  {
   "cell_type": "code",
   "execution_count": 12,
   "metadata": {},
   "outputs": [],
   "source": [
    "mat0 = lda0.transform(X0) \n",
    "\n",
    "topic_dist0 = mat0\n",
    "\n",
    "labels0 = [-1]*len(topic_dist0)\n",
    "    \n",
    "i = 0\n",
    "for dist in topic_dist0:\n",
    "    dist = dist.tolist()\n",
    "    if len(set(dist)) != 1:\n",
    "        review_topic_index = dist.index(max(dist))\n",
    "        review_max_topic_probality = dist[review_topic_index]\n",
    "        labels0[i]=review_topic_index\n",
    "        i = i + 1\n",
    "    else:\n",
    "        i = i + 1\n",
    "\n",
    "labels_df0 = pd.DataFrame(labels0)"
   ]
  },
  {
   "cell_type": "code",
   "execution_count": 13,
   "metadata": {
    "scrolled": false
   },
   "outputs": [
    {
     "data": {
      "text/html": [
       "<div>\n",
       "<style scoped>\n",
       "    .dataframe tbody tr th:only-of-type {\n",
       "        vertical-align: middle;\n",
       "    }\n",
       "\n",
       "    .dataframe tbody tr th {\n",
       "        vertical-align: top;\n",
       "    }\n",
       "\n",
       "    .dataframe thead th {\n",
       "        text-align: right;\n",
       "    }\n",
       "</style>\n",
       "<table border=\"1\" class=\"dataframe\">\n",
       "  <thead>\n",
       "    <tr style=\"text-align: right;\">\n",
       "      <th></th>\n",
       "      <th>index</th>\n",
       "      <th>REVIEW_INDEX</th>\n",
       "      <th>REVIEW_DATE</th>\n",
       "      <th>REVIEW_RATING</th>\n",
       "      <th>REVIEW_TITLE</th>\n",
       "      <th>REVIEW_BODY</th>\n",
       "      <th>DATE_OF_EXPERIENCE</th>\n",
       "      <th>TRIP_TYPE</th>\n",
       "      <th>REVIEW_CRAWLED_TIME</th>\n",
       "      <th>REVIEWER_NAME</th>\n",
       "      <th>HOME_COUNTRY</th>\n",
       "      <th>ATTRACTION_NAME</th>\n",
       "      <th>ATTRACTION_TYPE</th>\n",
       "      <th>ADDRESS</th>\n",
       "      <th>clean_text</th>\n",
       "      <th>Topic</th>\n",
       "    </tr>\n",
       "  </thead>\n",
       "  <tbody>\n",
       "    <tr>\n",
       "      <th>0</th>\n",
       "      <td>0</td>\n",
       "      <td>741832336</td>\n",
       "      <td>2020-01-29 00:00:00.000</td>\n",
       "      <td>5</td>\n",
       "      <td>Fabulous</td>\n",
       "      <td>Fabulous experience and an unforgettable day o...</td>\n",
       "      <td>2020-01-01 00:00:00.000</td>\n",
       "      <td>Couples</td>\n",
       "      <td>2020-01-29 12:01:27.012</td>\n",
       "      <td>Dreinog</td>\n",
       "      <td>United Kingdom</td>\n",
       "      <td>Cloud Forest</td>\n",
       "      <td>Leisure &amp; Recreation</td>\n",
       "      <td>18 Marina Gardens Drive | 18 Marina Gardens Dr...</td>\n",
       "      <td>fabulous experience unforgettable day singapor...</td>\n",
       "      <td>Garden Tour</td>\n",
       "    </tr>\n",
       "    <tr>\n",
       "      <th>1</th>\n",
       "      <td>1</td>\n",
       "      <td>741819214</td>\n",
       "      <td>2020-01-29 00:00:00.000</td>\n",
       "      <td>5</td>\n",
       "      <td>Stunning</td>\n",
       "      <td>I wasnâ€™t sure what to expect but this was ab...</td>\n",
       "      <td>2020-01-01 00:00:00.000</td>\n",
       "      <td>Family</td>\n",
       "      <td>2020-01-29 11:30:13.663</td>\n",
       "      <td>3mcglynns</td>\n",
       "      <td>Australia</td>\n",
       "      <td>Cloud Forest</td>\n",
       "      <td>Leisure &amp; Recreation</td>\n",
       "      <td>18 Marina Gardens Drive | 18 Marina Gardens Dr...</td>\n",
       "      <td>wasnatmt sure expect absolutely beautiful moth...</td>\n",
       "      <td>Garden Tour</td>\n",
       "    </tr>\n",
       "    <tr>\n",
       "      <th>2</th>\n",
       "      <td>9</td>\n",
       "      <td>741766715</td>\n",
       "      <td>2020-01-28 00:00:00.000</td>\n",
       "      <td>5</td>\n",
       "      <td>Great place</td>\n",
       "      <td>Perhaps the best attraction in Singapore ... v...</td>\n",
       "      <td>2020-01-01 00:00:00.000</td>\n",
       "      <td>Couples</td>\n",
       "      <td>2020-01-29 10:38:29.069</td>\n",
       "      <td>OHIduke</td>\n",
       "      <td>United Kingdom</td>\n",
       "      <td>National Orchid Garden</td>\n",
       "      <td>Leisure &amp; Recreation</td>\n",
       "      <td>1 Cluny Rd | Within the Singapore Botanic Gard...</td>\n",
       "      <td>perhaps best attraction singapore well preserv...</td>\n",
       "      <td>Garden Tour</td>\n",
       "    </tr>\n",
       "    <tr>\n",
       "      <th>3</th>\n",
       "      <td>10</td>\n",
       "      <td>741810174</td>\n",
       "      <td>2020-01-28 00:00:00.000</td>\n",
       "      <td>5</td>\n",
       "      <td>Family trip to Singapore</td>\n",
       "      <td>View of whole Singapore from floor no. 56 is v...</td>\n",
       "      <td>2020-01-01 00:00:00.000</td>\n",
       "      <td>Family</td>\n",
       "      <td>2020-01-29 13:09:47.153</td>\n",
       "      <td>vaibhav_maheshwari56</td>\n",
       "      <td>India</td>\n",
       "      <td>Marina Bay Sands Skypark</td>\n",
       "      <td>Leisure &amp; Recreation</td>\n",
       "      <td>10 Bayfront Avenue | Level 57, Marina Bay Sand...</td>\n",
       "      <td>view whole singapore floor amaze beautiful nic...</td>\n",
       "      <td>Garden Tour</td>\n",
       "    </tr>\n",
       "    <tr>\n",
       "      <th>4</th>\n",
       "      <td>11</td>\n",
       "      <td>741680428</td>\n",
       "      <td>2020-01-28 00:00:00.000</td>\n",
       "      <td>4</td>\n",
       "      <td>Expensive but fantastic views</td>\n",
       "      <td>It has to be done, visit this iconic building,...</td>\n",
       "      <td>2020-01-01 00:00:00.000</td>\n",
       "      <td>Couples</td>\n",
       "      <td>2020-01-29 13:29:07.441</td>\n",
       "      <td>FionaH252</td>\n",
       "      <td>United Kingdom</td>\n",
       "      <td>Marina Bay Sands Skypark</td>\n",
       "      <td>Leisure &amp; Recreation</td>\n",
       "      <td>10 Bayfront Avenue | Level 57, Marina Bay Sand...</td>\n",
       "      <td>do visit iconic building travel top see singap...</td>\n",
       "      <td>Transportation and Tickets</td>\n",
       "    </tr>\n",
       "  </tbody>\n",
       "</table>\n",
       "</div>"
      ],
      "text/plain": [
       "   index  REVIEW_INDEX              REVIEW_DATE  REVIEW_RATING  \\\n",
       "0      0     741832336  2020-01-29 00:00:00.000              5   \n",
       "1      1     741819214  2020-01-29 00:00:00.000              5   \n",
       "2      9     741766715  2020-01-28 00:00:00.000              5   \n",
       "3     10     741810174  2020-01-28 00:00:00.000              5   \n",
       "4     11     741680428  2020-01-28 00:00:00.000              4   \n",
       "\n",
       "                    REVIEW_TITLE  \\\n",
       "0                       Fabulous   \n",
       "1                       Stunning   \n",
       "2                    Great place   \n",
       "3       Family trip to Singapore   \n",
       "4  Expensive but fantastic views   \n",
       "\n",
       "                                         REVIEW_BODY       DATE_OF_EXPERIENCE  \\\n",
       "0  Fabulous experience and an unforgettable day o...  2020-01-01 00:00:00.000   \n",
       "1  I wasnâ€™t sure what to expect but this was ab...  2020-01-01 00:00:00.000   \n",
       "2  Perhaps the best attraction in Singapore ... v...  2020-01-01 00:00:00.000   \n",
       "3  View of whole Singapore from floor no. 56 is v...  2020-01-01 00:00:00.000   \n",
       "4  It has to be done, visit this iconic building,...  2020-01-01 00:00:00.000   \n",
       "\n",
       "  TRIP_TYPE      REVIEW_CRAWLED_TIME         REVIEWER_NAME    HOME_COUNTRY  \\\n",
       "0   Couples  2020-01-29 12:01:27.012               Dreinog  United Kingdom   \n",
       "1    Family  2020-01-29 11:30:13.663             3mcglynns       Australia   \n",
       "2   Couples  2020-01-29 10:38:29.069               OHIduke  United Kingdom   \n",
       "3    Family  2020-01-29 13:09:47.153  vaibhav_maheshwari56           India   \n",
       "4   Couples  2020-01-29 13:29:07.441             FionaH252  United Kingdom   \n",
       "\n",
       "            ATTRACTION_NAME       ATTRACTION_TYPE  \\\n",
       "0              Cloud Forest  Leisure & Recreation   \n",
       "1              Cloud Forest  Leisure & Recreation   \n",
       "2    National Orchid Garden  Leisure & Recreation   \n",
       "3  Marina Bay Sands Skypark  Leisure & Recreation   \n",
       "4  Marina Bay Sands Skypark  Leisure & Recreation   \n",
       "\n",
       "                                             ADDRESS  \\\n",
       "0  18 Marina Gardens Drive | 18 Marina Gardens Dr...   \n",
       "1  18 Marina Gardens Drive | 18 Marina Gardens Dr...   \n",
       "2  1 Cluny Rd | Within the Singapore Botanic Gard...   \n",
       "3  10 Bayfront Avenue | Level 57, Marina Bay Sand...   \n",
       "4  10 Bayfront Avenue | Level 57, Marina Bay Sand...   \n",
       "\n",
       "                                          clean_text  \\\n",
       "0  fabulous experience unforgettable day singapor...   \n",
       "1  wasnatmt sure expect absolutely beautiful moth...   \n",
       "2  perhaps best attraction singapore well preserv...   \n",
       "3  view whole singapore floor amaze beautiful nic...   \n",
       "4  do visit iconic building travel top see singap...   \n",
       "\n",
       "                        Topic  \n",
       "0                 Garden Tour  \n",
       "1                 Garden Tour  \n",
       "2                 Garden Tour  \n",
       "3                 Garden Tour  \n",
       "4  Transportation and Tickets  "
      ]
     },
     "execution_count": 13,
     "metadata": {},
     "output_type": "execute_result"
    }
   ],
   "source": [
    "labels_df0 = labels_df0.rename(columns = {0:'Topic'})\n",
    "df_LR = pd.concat([df0.reset_index(), labels_df0],axis=1)\n",
    "\n",
    "df_LR['Topic'] = df_LR['Topic'].replace({\n",
    "    0: 'Flowers and Plants', \n",
    "    1: 'Service',\n",
    "    2: 'Transportation and Tickets',\n",
    "    3: 'Entertainments and Activities',\n",
    "    4: 'Indoor Environment',\n",
    "    5: 'Garden Tour'\n",
    "})\n",
    "\n",
    "df_LR.head()"
   ]
  },
  {
   "cell_type": "code",
   "execution_count": 64,
   "metadata": {},
   "outputs": [
    {
     "data": {
      "text/plain": [
       "(array([0, 1, 2, 3, 4, 5]),\n",
       " [Text(0, 0, 'Garden Tour'),\n",
       "  Text(1, 0, 'Transportation and Tickets'),\n",
       "  Text(2, 0, 'Indoor Environment'),\n",
       "  Text(3, 0, 'Service'),\n",
       "  Text(4, 0, 'Flowers and Plants'),\n",
       "  Text(5, 0, 'Entertainments and Activities')])"
      ]
     },
     "execution_count": 64,
     "metadata": {},
     "output_type": "execute_result"
    },
    {
     "data": {
      "image/png": "[encoded data removed]",
      "text/plain": [
       "<Figure size 432x288 with 1 Axes>"
      ]
     },
     "metadata": {
      "needs_background": "light"
     },
     "output_type": "display_data"
    }
   ],
   "source": [
    "sns.countplot(x = df_LR['Topic'])\n",
    "plt.xticks(rotation = 90)"
   ]
  },
  {
   "cell_type": "code",
   "execution_count": 14,
   "metadata": {},
   "outputs": [
    {
     "ename": "NameError",
     "evalue": "name 'df' is not defined",
     "output_type": "error",
     "traceback": [
      "\u001b[1;31m---------------------------------------------------------------------------\u001b[0m",
      "\u001b[1;31mNameError\u001b[0m                                 Traceback (most recent call last)",
      "\u001b[1;32m<ipython-input-14-50a663e5c625>\u001b[0m in \u001b[0;36m<module>\u001b[1;34m\u001b[0m\n\u001b[1;32m----> 1\u001b[1;33m \u001b[0mdf\u001b[0m\u001b[1;33m.\u001b[0m\u001b[0mto_csv\u001b[0m\u001b[1;33m(\u001b[0m\u001b[1;34m'Leisure_and_Recreation_labelled.csv'\u001b[0m\u001b[1;33m,\u001b[0m \u001b[0msep\u001b[0m\u001b[1;33m=\u001b[0m\u001b[1;34m';'\u001b[0m\u001b[1;33m)\u001b[0m\u001b[1;33m\u001b[0m\u001b[1;33m\u001b[0m\u001b[0m\n\u001b[0m",
      "\u001b[1;31mNameError\u001b[0m: name 'df' is not defined"
     ]
    }
   ],
   "source": [
    "# df_LR.to_csv('Leisure_and_Recreation_labelled.csv', sep=';')"
   ]
  },
  {
   "cell_type": "markdown",
   "metadata": {},
   "source": [
    "## Precinct & Street"
   ]
  },
  {
   "cell_type": "code",
   "execution_count": 15,
   "metadata": {},
   "outputs": [
    {
     "data": {
      "text/plain": [
       "'Precinct & Street'"
      ]
     },
     "execution_count": 15,
     "metadata": {},
     "output_type": "execute_result"
    }
   ],
   "source": [
    "atypes[1]"
   ]
  },
  {
   "cell_type": "code",
   "execution_count": 16,
   "metadata": {},
   "outputs": [],
   "source": [
    "# generate topics for each attraction type\n",
    "df1 = data[data['ATTRACTION_TYPE']==atypes[1]]\n",
    "# vectorize text data\n",
    "vectorizer = TfidfVectorizer()\n",
    "vectorizer.fit(df1['clean_text'])\n",
    "\n",
    "# save the model to disk\n",
    "#filename_vec = 'vectorizer_model.sav'\n",
    "#pickle.dump(vectorizer, open(filename_vec, 'wb'))\n",
    "\n",
    "# transform the text into vectorizer\n",
    "X1 = vectorizer.transform(df1['clean_text'])"
   ]
  },
  {
   "cell_type": "code",
   "execution_count": 17,
   "metadata": {},
   "outputs": [
    {
     "name": "stderr",
     "output_type": "stream",
     "text": [
      "100%|████████████████████████████████████████████████████████████████████████████████████| 8/8 [06:01<00:00, 45.24s/it]\n"
     ]
    }
   ],
   "source": [
    "from sklearn.cluster import KMeans\n",
    "from sklearn.metrics import silhouette_score\n",
    "from tqdm import tqdm\n",
    "\n",
    "sil1 = []\n",
    "sse1 = []\n",
    "kmax = 9\n",
    "\n",
    "# dissimilarity would not be defined for a single cluster, thus, minimum number of clusters should be 2\n",
    "for k in tqdm(range(2, kmax+1)):\n",
    "    kmeans = KMeans(n_clusters = k).fit(X1)\n",
    "    labels = kmeans.labels_\n",
    "    sil1.append(silhouette_score(X1, labels, metric = 'euclidean'))\n",
    "    sse1.append(kmeans.inertia_)"
   ]
  },
  {
   "cell_type": "code",
   "execution_count": 18,
   "metadata": {},
   "outputs": [
    {
     "data": {
      "image/png": "[encoded data removed]",
      "text/plain": [
       "<Figure size 720x360 with 1 Axes>"
      ]
     },
     "metadata": {
      "needs_background": "light"
     },
     "output_type": "display_data"
    },
    {
     "data": {
      "text/plain": [
       "<AxesSubplot:>"
      ]
     },
     "execution_count": 18,
     "metadata": {},
     "output_type": "execute_result"
    },
    {
     "data": {
      "image/png": "[encoded data removed]",
      "text/plain": [
       "<Figure size 432x288 with 1 Axes>"
      ]
     },
     "metadata": {
      "needs_background": "light"
     },
     "output_type": "display_data"
    }
   ],
   "source": [
    "plt.figure(figsize = (10,5))\n",
    "sns.lineplot(x = list(range(2,kmax+1)), y = sil1)\n",
    "plt.xlabel('Number of Clusters')\n",
    "plt.ylabel('Silhouette Scores')\n",
    "plt.show()\n",
    "sns.lineplot(x = list(range(2,kmax+1)), y = sse1)"
   ]
  },
  {
   "cell_type": "code",
   "execution_count": 19,
   "metadata": {},
   "outputs": [
    {
     "name": "stdout",
     "output_type": "stream",
     "text": [
      "Attraction type: Precinct & Street\n",
      "Topic #0:\n",
      "bay night marina view river light quay place walk singapore\n",
      "Attraction type: Precinct & Street\n",
      "Topic #1:\n",
      "shop food shopping place not street visit good road singapore\n",
      "Attraction type: Precinct & Street\n",
      "Topic #2:\n",
      "glam kampong hong kong na belt refund stomach wan convenience\n"
     ]
    }
   ],
   "source": [
    "# build LDA model\n",
    "lda1 = LatentDirichletAllocation(n_components=3, max_iter=10, learning_method='online', learning_offset=5, random_state=2017)\n",
    "lda1.fit(X1)\n",
    "\n",
    "# save the model to disk\n",
    "#filename_lda = 'lda_model.sav'\n",
    "#pickle.dump(lda, open(filename_lda, 'wb'))\n",
    "\n",
    "feature_names1 = np.array(vectorizer.get_feature_names())\n",
    "for topic_idx, topic in enumerate(lda1.components_):\n",
    "    print('Attraction type: {}'.format(atypes[1]))\n",
    "    print(\"Topic #%d:\" % topic_idx)\n",
    "    print(\" \".join([feature_names1[i] for i in topic.argsort()[:-10 - 1:-1]]))"
   ]
  },
  {
   "cell_type": "code",
   "execution_count": 20,
   "metadata": {},
   "outputs": [],
   "source": [
    "mat1 = lda1.transform(X1) \n",
    "\n",
    "topic_dist1 = mat1\n",
    "\n",
    "labels1 = [-1]*len(topic_dist1)\n",
    "    \n",
    "i = 0\n",
    "for dist in topic_dist1:\n",
    "    dist = dist.tolist()\n",
    "    if len(set(dist)) != 1:\n",
    "        review_topic_index = dist.index(max(dist))\n",
    "        review_max_topic_probality = dist[review_topic_index]\n",
    "        labels1[i]=review_topic_index\n",
    "        i = i + 1\n",
    "    else:\n",
    "        i = i + 1\n",
    "\n",
    "labels_df1 = pd.DataFrame(labels1)"
   ]
  },
  {
   "cell_type": "code",
   "execution_count": 21,
   "metadata": {
    "scrolled": true
   },
   "outputs": [
    {
     "data": {
      "text/html": [
       "<div>\n",
       "<style scoped>\n",
       "    .dataframe tbody tr th:only-of-type {\n",
       "        vertical-align: middle;\n",
       "    }\n",
       "\n",
       "    .dataframe tbody tr th {\n",
       "        vertical-align: top;\n",
       "    }\n",
       "\n",
       "    .dataframe thead th {\n",
       "        text-align: right;\n",
       "    }\n",
       "</style>\n",
       "<table border=\"1\" class=\"dataframe\">\n",
       "  <thead>\n",
       "    <tr style=\"text-align: right;\">\n",
       "      <th></th>\n",
       "      <th>index</th>\n",
       "      <th>REVIEW_INDEX</th>\n",
       "      <th>REVIEW_DATE</th>\n",
       "      <th>REVIEW_RATING</th>\n",
       "      <th>REVIEW_TITLE</th>\n",
       "      <th>REVIEW_BODY</th>\n",
       "      <th>DATE_OF_EXPERIENCE</th>\n",
       "      <th>TRIP_TYPE</th>\n",
       "      <th>REVIEW_CRAWLED_TIME</th>\n",
       "      <th>REVIEWER_NAME</th>\n",
       "      <th>HOME_COUNTRY</th>\n",
       "      <th>ATTRACTION_NAME</th>\n",
       "      <th>ATTRACTION_TYPE</th>\n",
       "      <th>ADDRESS</th>\n",
       "      <th>clean_text</th>\n",
       "      <th>Topic</th>\n",
       "    </tr>\n",
       "  </thead>\n",
       "  <tbody>\n",
       "    <tr>\n",
       "      <th>0</th>\n",
       "      <td>2</td>\n",
       "      <td>741818972</td>\n",
       "      <td>2020-01-29 00:00:00.000</td>\n",
       "      <td>3</td>\n",
       "      <td>Another Chinatown</td>\n",
       "      <td>As every major city worldwide seems to have a ...</td>\n",
       "      <td>2020-01-01 00:00:00.000</td>\n",
       "      <td>Couples</td>\n",
       "      <td>2020-01-30 11:53:44.082</td>\n",
       "      <td>MR_Travels1920</td>\n",
       "      <td>United Kingdom</td>\n",
       "      <td>Chinatown</td>\n",
       "      <td>Precinct &amp; Street</td>\n",
       "      <td>Crot | Trengganu, Singapore 048942, Singapore</td>\n",
       "      <td>every major city worldwide seem chinatown anot...</td>\n",
       "      <td>Shopping and Restaurant</td>\n",
       "    </tr>\n",
       "    <tr>\n",
       "      <th>1</th>\n",
       "      <td>3</td>\n",
       "      <td>741881009</td>\n",
       "      <td>2020-01-29 00:00:00.000</td>\n",
       "      <td>4</td>\n",
       "      <td>Good lively place to visit</td>\n",
       "      <td>Busy lively place in the evening I visited. Go...</td>\n",
       "      <td>2020-01-01 00:00:00.000</td>\n",
       "      <td>Solo</td>\n",
       "      <td>2020-01-30 12:34:12.312</td>\n",
       "      <td>RaviA651</td>\n",
       "      <td>United States</td>\n",
       "      <td>Chinatown</td>\n",
       "      <td>Precinct &amp; Street</td>\n",
       "      <td>Crot | Trengganu, Singapore 048942, Singapore</td>\n",
       "      <td>busy lively place even visit go empty stomach ...</td>\n",
       "      <td>Shopping and Restaurant</td>\n",
       "    </tr>\n",
       "    <tr>\n",
       "      <th>2</th>\n",
       "      <td>4</td>\n",
       "      <td>741827762</td>\n",
       "      <td>2020-01-29 00:00:00.000</td>\n",
       "      <td>5</td>\n",
       "      <td>Great experience</td>\n",
       "      <td>Fabulous location and atmosphere. We only stop...</td>\n",
       "      <td>2020-01-01 00:00:00.000</td>\n",
       "      <td>Couples</td>\n",
       "      <td>2020-01-29 23:02:07.201</td>\n",
       "      <td>Dreinog</td>\n",
       "      <td>United Kingdom</td>\n",
       "      <td>Marina Bay</td>\n",
       "      <td>Precinct &amp; Street</td>\n",
       "      <td>Marina Boulevard, Singapore 018980, Singapore</td>\n",
       "      <td>fabulous location atmosphere stop day return s...</td>\n",
       "      <td>Nightlife</td>\n",
       "    </tr>\n",
       "    <tr>\n",
       "      <th>3</th>\n",
       "      <td>6</td>\n",
       "      <td>741865751</td>\n",
       "      <td>2020-01-29 00:00:00.000</td>\n",
       "      <td>4</td>\n",
       "      <td>A different â€˜sideâ€™ of Orchard Road</td>\n",
       "      <td>I came here during the Chinese New Year. It wa...</td>\n",
       "      <td>2020-01-01 00:00:00.000</td>\n",
       "      <td>Family</td>\n",
       "      <td>2020-01-30 02:21:23.583</td>\n",
       "      <td>588phis</td>\n",
       "      <td>Thailand</td>\n",
       "      <td>Orchard Road</td>\n",
       "      <td>Precinct &amp; Street</td>\n",
       "      <td>Singapore, Singapore</td>\n",
       "      <td>come chinese new year rather quiet not crowd a...</td>\n",
       "      <td>Shopping and Restaurant</td>\n",
       "    </tr>\n",
       "    <tr>\n",
       "      <th>4</th>\n",
       "      <td>13</td>\n",
       "      <td>741728919</td>\n",
       "      <td>2020-01-28 00:00:00.000</td>\n",
       "      <td>5</td>\n",
       "      <td>Awesime view by night</td>\n",
       "      <td>Just outside the main shopping center in City ...</td>\n",
       "      <td>2020-01-01 00:00:00.000</td>\n",
       "      <td>Couples</td>\n",
       "      <td>2020-01-29 23:02:07.596</td>\n",
       "      <td>soebagij</td>\n",
       "      <td>Indonesia</td>\n",
       "      <td>Marina Bay</td>\n",
       "      <td>Precinct &amp; Street</td>\n",
       "      <td>Marina Boulevard, Singapore 018980, Singapore</td>\n",
       "      <td>outside main shopping center city hall suntec ...</td>\n",
       "      <td>Nightlife</td>\n",
       "    </tr>\n",
       "  </tbody>\n",
       "</table>\n",
       "</div>"
      ],
      "text/plain": [
       "   index  REVIEW_INDEX              REVIEW_DATE  REVIEW_RATING  \\\n",
       "0      2     741818972  2020-01-29 00:00:00.000              3   \n",
       "1      3     741881009  2020-01-29 00:00:00.000              4   \n",
       "2      4     741827762  2020-01-29 00:00:00.000              5   \n",
       "3      6     741865751  2020-01-29 00:00:00.000              4   \n",
       "4     13     741728919  2020-01-28 00:00:00.000              5   \n",
       "\n",
       "                             REVIEW_TITLE  \\\n",
       "0                       Another Chinatown   \n",
       "1              Good lively place to visit   \n",
       "2                        Great experience   \n",
       "3  A different â€˜sideâ€™ of Orchard Road   \n",
       "4                   Awesime view by night   \n",
       "\n",
       "                                         REVIEW_BODY       DATE_OF_EXPERIENCE  \\\n",
       "0  As every major city worldwide seems to have a ...  2020-01-01 00:00:00.000   \n",
       "1  Busy lively place in the evening I visited. Go...  2020-01-01 00:00:00.000   \n",
       "2  Fabulous location and atmosphere. We only stop...  2020-01-01 00:00:00.000   \n",
       "3  I came here during the Chinese New Year. It wa...  2020-01-01 00:00:00.000   \n",
       "4  Just outside the main shopping center in City ...  2020-01-01 00:00:00.000   \n",
       "\n",
       "  TRIP_TYPE      REVIEW_CRAWLED_TIME   REVIEWER_NAME    HOME_COUNTRY  \\\n",
       "0   Couples  2020-01-30 11:53:44.082  MR_Travels1920  United Kingdom   \n",
       "1      Solo  2020-01-30 12:34:12.312        RaviA651   United States   \n",
       "2   Couples  2020-01-29 23:02:07.201         Dreinog  United Kingdom   \n",
       "3    Family  2020-01-30 02:21:23.583         588phis        Thailand   \n",
       "4   Couples  2020-01-29 23:02:07.596        soebagij       Indonesia   \n",
       "\n",
       "  ATTRACTION_NAME    ATTRACTION_TYPE  \\\n",
       "0       Chinatown  Precinct & Street   \n",
       "1       Chinatown  Precinct & Street   \n",
       "2      Marina Bay  Precinct & Street   \n",
       "3    Orchard Road  Precinct & Street   \n",
       "4      Marina Bay  Precinct & Street   \n",
       "\n",
       "                                         ADDRESS  \\\n",
       "0  Crot | Trengganu, Singapore 048942, Singapore   \n",
       "1  Crot | Trengganu, Singapore 048942, Singapore   \n",
       "2  Marina Boulevard, Singapore 018980, Singapore   \n",
       "3                           Singapore, Singapore   \n",
       "4  Marina Boulevard, Singapore 018980, Singapore   \n",
       "\n",
       "                                          clean_text                    Topic  \n",
       "0  every major city worldwide seem chinatown anot...  Shopping and Restaurant  \n",
       "1  busy lively place even visit go empty stomach ...  Shopping and Restaurant  \n",
       "2  fabulous location atmosphere stop day return s...                Nightlife  \n",
       "3  come chinese new year rather quiet not crowd a...  Shopping and Restaurant  \n",
       "4  outside main shopping center city hall suntec ...                Nightlife  "
      ]
     },
     "execution_count": 21,
     "metadata": {},
     "output_type": "execute_result"
    }
   ],
   "source": [
    "labels_df1 = labels_df1.rename(columns = {0:'Topic'})\n",
    "df_PS = pd.concat([df1.reset_index(), labels_df1],axis=1)\n",
    "\n",
    "df_PS['Topic'] = df_PS['Topic'].replace({\n",
    "    0: 'Nightlife', \n",
    "    1: 'Shopping and Restaurant',\n",
    "    2: 'Cultural Atmosphere',\n",
    "})\n",
    "\n",
    "df_PS.head()"
   ]
  },
  {
   "cell_type": "code",
   "execution_count": 65,
   "metadata": {},
   "outputs": [
    {
     "data": {
      "text/plain": [
       "(array([0, 1, 2]),\n",
       " [Text(0, 0, 'Shopping and Restaurant'),\n",
       "  Text(1, 0, 'Nightlife'),\n",
       "  Text(2, 0, 'Cultural Atmosphere')])"
      ]
     },
     "execution_count": 65,
     "metadata": {},
     "output_type": "execute_result"
    },
    {
     "data": {
      "image/png": "[encoded data removed]",
      "text/plain": [
       "<Figure size 432x288 with 1 Axes>"
      ]
     },
     "metadata": {
      "needs_background": "light"
     },
     "output_type": "display_data"
    }
   ],
   "source": [
    "sns.countplot(x = df_PS['Topic'])\n",
    "plt.xticks(rotation = 90)"
   ]
  },
  {
   "cell_type": "markdown",
   "metadata": {},
   "source": [
    "## Nature & Wildlife"
   ]
  },
  {
   "cell_type": "code",
   "execution_count": 22,
   "metadata": {},
   "outputs": [
    {
     "data": {
      "text/plain": [
       "'Nature & Wildlife'"
      ]
     },
     "execution_count": 22,
     "metadata": {},
     "output_type": "execute_result"
    }
   ],
   "source": [
    "atypes[2]"
   ]
  },
  {
   "cell_type": "code",
   "execution_count": 23,
   "metadata": {},
   "outputs": [],
   "source": [
    "# generate topics for each attraction type\n",
    "df2 = data[data['ATTRACTION_TYPE']==atypes[2]]\n",
    "# vectorize text data\n",
    "vectorizer = TfidfVectorizer()\n",
    "vectorizer.fit(df2['clean_text'])\n",
    "\n",
    "# save the model to disk\n",
    "#filename_vec = 'vectorizer_model.sav'\n",
    "#pickle.dump(vectorizer, open(filename_vec, 'wb'))\n",
    "\n",
    "# transform the text into vectorizer\n",
    "X2 = vectorizer.transform(df2['clean_text'])"
   ]
  },
  {
   "cell_type": "code",
   "execution_count": 24,
   "metadata": {},
   "outputs": [
    {
     "name": "stderr",
     "output_type": "stream",
     "text": [
      "100%|████████████████████████████████████████████████████████████████████████████████████| 8/8 [05:01<00:00, 37.63s/it]\n"
     ]
    }
   ],
   "source": [
    "from sklearn.cluster import KMeans\n",
    "from sklearn.metrics import silhouette_score\n",
    "from tqdm import tqdm\n",
    "\n",
    "sil2 = []\n",
    "sse2 = []\n",
    "kmax = 9\n",
    "\n",
    "# dissimilarity would not be defined for a single cluster, thus, minimum number of clusters should be 2\n",
    "for k in tqdm(range(2, kmax+1)):\n",
    "    kmeans = KMeans(n_clusters = k).fit(X2)\n",
    "    labels = kmeans.labels_\n",
    "    sse2.append(kmeans.inertia_)\n",
    "    sil2.append(silhouette_score(X2, labels, metric = 'euclidean'))"
   ]
  },
  {
   "cell_type": "code",
   "execution_count": 25,
   "metadata": {},
   "outputs": [
    {
     "data": {
      "image/png": "[encoded data removed]",
      "text/plain": [
       "<Figure size 720x360 with 1 Axes>"
      ]
     },
     "metadata": {
      "needs_background": "light"
     },
     "output_type": "display_data"
    },
    {
     "data": {
      "text/plain": [
       "<AxesSubplot:>"
      ]
     },
     "execution_count": 25,
     "metadata": {},
     "output_type": "execute_result"
    },
    {
     "data": {
      "image/png": "[encoded data removed]",
      "text/plain": [
       "<Figure size 432x288 with 1 Axes>"
      ]
     },
     "metadata": {
      "needs_background": "light"
     },
     "output_type": "display_data"
    }
   ],
   "source": [
    "plt.figure(figsize = (10,5))\n",
    "sns.lineplot(x = list(range(2,kmax+1)), y = sil2)\n",
    "plt.xlabel('Number of Clusters')\n",
    "plt.ylabel('Silhouette Scores')\n",
    "plt.show()\n",
    "sns.lineplot(x = list(range(2,kmax+1)), y = sse2)"
   ]
  },
  {
   "cell_type": "code",
   "execution_count": 26,
   "metadata": {},
   "outputs": [
    {
     "name": "stdout",
     "output_type": "stream",
     "text": [
      "Attraction type: Nature & Wildlife\n",
      "Topic #0:\n",
      "airport van shinto dr hsbc litter keppel jinja syonan ye\n",
      "Attraction type: Nature & Wildlife\n",
      "Topic #1:\n",
      "koala setup couldnt promotion equally youngster komodo foreigner law bali\n",
      "Attraction type: Nature & Wildlife\n",
      "Topic #2:\n",
      "affordable orangatans dec kusu mai granddaughter temple john sumatran lifestyle\n",
      "Attraction type: Nature & Wildlife\n",
      "Topic #3:\n",
      "zoo animal not see visit show bird night walk well\n",
      "Attraction type: Nature & Wildlife\n",
      "Topic #4:\n",
      "wetland attractive esp hectic kranji goat mudskipper buloh sungei expand\n"
     ]
    }
   ],
   "source": [
    "# build LDA model\n",
    "lda2 = LatentDirichletAllocation(n_components=5, max_iter=10, learning_method='online', learning_offset=5, random_state=2017)\n",
    "lda2.fit(X2)\n",
    "# save the model to disk\n",
    "#filename_lda = 'lda_model.sav'\n",
    "#pickle.dump(lda, open(filename_lda, 'wb'))\n",
    "\n",
    "feature_names2 = np.array(vectorizer.get_feature_names())\n",
    "for topic_idx, topic in enumerate(lda2.components_):\n",
    "    print('Attraction type: {}'.format(atypes[2]))\n",
    "    print(\"Topic #%d:\" % topic_idx)\n",
    "    print(\" \".join([feature_names2[i] for i in topic.argsort()[:-10 - 1:-1]]))"
   ]
  },
  {
   "cell_type": "code",
   "execution_count": 27,
   "metadata": {},
   "outputs": [],
   "source": [
    "mat2 = lda2.transform(X2) \n",
    "\n",
    "topic_dist2 = mat2\n",
    "\n",
    "labels2 = [-1]*len(topic_dist2)\n",
    "    \n",
    "i = 0\n",
    "for dist in topic_dist2:\n",
    "    dist = dist.tolist()\n",
    "    if len(set(dist)) != 1:\n",
    "        review_topic_index = dist.index(max(dist))\n",
    "        review_max_topic_probality = dist[review_topic_index]\n",
    "        labels2[i]=review_topic_index\n",
    "        i = i + 1\n",
    "    else:\n",
    "        i = i + 1\n",
    "\n",
    "labels_df2 = pd.DataFrame(labels2)"
   ]
  },
  {
   "cell_type": "code",
   "execution_count": 28,
   "metadata": {},
   "outputs": [
    {
     "data": {
      "text/html": [
       "<div>\n",
       "<style scoped>\n",
       "    .dataframe tbody tr th:only-of-type {\n",
       "        vertical-align: middle;\n",
       "    }\n",
       "\n",
       "    .dataframe tbody tr th {\n",
       "        vertical-align: top;\n",
       "    }\n",
       "\n",
       "    .dataframe thead th {\n",
       "        text-align: right;\n",
       "    }\n",
       "</style>\n",
       "<table border=\"1\" class=\"dataframe\">\n",
       "  <thead>\n",
       "    <tr style=\"text-align: right;\">\n",
       "      <th></th>\n",
       "      <th>index</th>\n",
       "      <th>REVIEW_INDEX</th>\n",
       "      <th>REVIEW_DATE</th>\n",
       "      <th>REVIEW_RATING</th>\n",
       "      <th>REVIEW_TITLE</th>\n",
       "      <th>REVIEW_BODY</th>\n",
       "      <th>DATE_OF_EXPERIENCE</th>\n",
       "      <th>TRIP_TYPE</th>\n",
       "      <th>REVIEW_CRAWLED_TIME</th>\n",
       "      <th>REVIEWER_NAME</th>\n",
       "      <th>HOME_COUNTRY</th>\n",
       "      <th>ATTRACTION_NAME</th>\n",
       "      <th>ATTRACTION_TYPE</th>\n",
       "      <th>ADDRESS</th>\n",
       "      <th>clean_text</th>\n",
       "      <th>Topic</th>\n",
       "    </tr>\n",
       "  </thead>\n",
       "  <tbody>\n",
       "    <tr>\n",
       "      <th>0</th>\n",
       "      <td>7</td>\n",
       "      <td>741821943</td>\n",
       "      <td>2020-01-29 00:00:00.000</td>\n",
       "      <td>5</td>\n",
       "      <td>Great day out</td>\n",
       "      <td>I loved this! We did an afternoon tour here, w...</td>\n",
       "      <td>2020-01-01 00:00:00.000</td>\n",
       "      <td>Family</td>\n",
       "      <td>2020-01-30 03:42:08.473</td>\n",
       "      <td>3mcglynns</td>\n",
       "      <td>Australia</td>\n",
       "      <td>River Safari</td>\n",
       "      <td>Nature &amp; Wildlife</td>\n",
       "      <td>80 Mandai Lake Road Singapore Zoological Garde...</td>\n",
       "      <td>love afternoon tour stayed hour well laid supe...</td>\n",
       "      <td>Interaction with Animals</td>\n",
       "    </tr>\n",
       "    <tr>\n",
       "      <th>1</th>\n",
       "      <td>14</td>\n",
       "      <td>741734127</td>\n",
       "      <td>2020-01-28 00:00:00.000</td>\n",
       "      <td>4</td>\n",
       "      <td>Nice walk</td>\n",
       "      <td>Great place to be in the nature on such concre...</td>\n",
       "      <td>2020-01-01 00:00:00.000</td>\n",
       "      <td>Friends</td>\n",
       "      <td>2020-01-29 23:51:38.342</td>\n",
       "      <td>Michelle M</td>\n",
       "      <td>Switzerland</td>\n",
       "      <td>MacRitchie Nature Trail</td>\n",
       "      <td>Nature &amp; Wildlife</td>\n",
       "      <td>MacRitchie Reservoir Park, Singapore 298717, S...</td>\n",
       "      <td>great place nature concrete jungle love wildli...</td>\n",
       "      <td>Interaction with Animals</td>\n",
       "    </tr>\n",
       "    <tr>\n",
       "      <th>2</th>\n",
       "      <td>18</td>\n",
       "      <td>741422340</td>\n",
       "      <td>2020-01-27 00:00:00.000</td>\n",
       "      <td>4</td>\n",
       "      <td>A great place for family bonding</td>\n",
       "      <td>A place with history and a place to relax with...</td>\n",
       "      <td>2020-01-01 00:00:00.000</td>\n",
       "      <td>Family</td>\n",
       "      <td>2020-01-31 17:22:56.722</td>\n",
       "      <td>juleskarz</td>\n",
       "      <td>Singapore</td>\n",
       "      <td>Labrador Nature Reserve</td>\n",
       "      <td>Nature &amp; Wildlife</td>\n",
       "      <td>Labrador Villa Road Tanjong Berlayer Park, Sin...</td>\n",
       "      <td>place history place relax family love greenery...</td>\n",
       "      <td>Interaction with Animals</td>\n",
       "    </tr>\n",
       "    <tr>\n",
       "      <th>3</th>\n",
       "      <td>23</td>\n",
       "      <td>741335601</td>\n",
       "      <td>2020-01-26 00:00:00.000</td>\n",
       "      <td>5</td>\n",
       "      <td>Jurong bird park.</td>\n",
       "      <td>It is superb and marvellous. Take a ram and dr...</td>\n",
       "      <td>2020-01-01 00:00:00.000</td>\n",
       "      <td>Couples</td>\n",
       "      <td>2020-01-29 17:46:29.258</td>\n",
       "      <td>564sanja</td>\n",
       "      <td>India</td>\n",
       "      <td>Jurong Bird Park</td>\n",
       "      <td>Nature &amp; Wildlife</td>\n",
       "      <td>2 Jurong Hill Jurong Bird Park, Singapore 6289...</td>\n",
       "      <td>superb marvellous take ram drop station see th...</td>\n",
       "      <td>Interaction with Animals</td>\n",
       "    </tr>\n",
       "    <tr>\n",
       "      <th>4</th>\n",
       "      <td>26</td>\n",
       "      <td>741206607</td>\n",
       "      <td>2020-01-26 00:00:00.000</td>\n",
       "      <td>4</td>\n",
       "      <td>Excellent walking trials</td>\n",
       "      <td>Excellent place for trekking and jogging. It h...</td>\n",
       "      <td>2020-01-01 00:00:00.000</td>\n",
       "      <td>Friends</td>\n",
       "      <td>2020-01-29 23:51:38.658</td>\n",
       "      <td>Kingkrk</td>\n",
       "      <td>Singapore</td>\n",
       "      <td>MacRitchie Nature Trail</td>\n",
       "      <td>Nature &amp; Wildlife</td>\n",
       "      <td>MacRitchie Reservoir Park, Singapore 298717, S...</td>\n",
       "      <td>excellent place trek jogging many trial tree t...</td>\n",
       "      <td>Interaction with Animals</td>\n",
       "    </tr>\n",
       "  </tbody>\n",
       "</table>\n",
       "</div>"
      ],
      "text/plain": [
       "   index  REVIEW_INDEX              REVIEW_DATE  REVIEW_RATING  \\\n",
       "0      7     741821943  2020-01-29 00:00:00.000              5   \n",
       "1     14     741734127  2020-01-28 00:00:00.000              4   \n",
       "2     18     741422340  2020-01-27 00:00:00.000              4   \n",
       "3     23     741335601  2020-01-26 00:00:00.000              5   \n",
       "4     26     741206607  2020-01-26 00:00:00.000              4   \n",
       "\n",
       "                       REVIEW_TITLE  \\\n",
       "0                     Great day out   \n",
       "1                         Nice walk   \n",
       "2  A great place for family bonding   \n",
       "3                 Jurong bird park.   \n",
       "4          Excellent walking trials   \n",
       "\n",
       "                                         REVIEW_BODY       DATE_OF_EXPERIENCE  \\\n",
       "0  I loved this! We did an afternoon tour here, w...  2020-01-01 00:00:00.000   \n",
       "1  Great place to be in the nature on such concre...  2020-01-01 00:00:00.000   \n",
       "2  A place with history and a place to relax with...  2020-01-01 00:00:00.000   \n",
       "3  It is superb and marvellous. Take a ram and dr...  2020-01-01 00:00:00.000   \n",
       "4  Excellent place for trekking and jogging. It h...  2020-01-01 00:00:00.000   \n",
       "\n",
       "  TRIP_TYPE      REVIEW_CRAWLED_TIME REVIEWER_NAME HOME_COUNTRY  \\\n",
       "0    Family  2020-01-30 03:42:08.473     3mcglynns    Australia   \n",
       "1   Friends  2020-01-29 23:51:38.342    Michelle M  Switzerland   \n",
       "2    Family  2020-01-31 17:22:56.722     juleskarz    Singapore   \n",
       "3   Couples  2020-01-29 17:46:29.258      564sanja        India   \n",
       "4   Friends  2020-01-29 23:51:38.658       Kingkrk    Singapore   \n",
       "\n",
       "           ATTRACTION_NAME    ATTRACTION_TYPE  \\\n",
       "0             River Safari  Nature & Wildlife   \n",
       "1  MacRitchie Nature Trail  Nature & Wildlife   \n",
       "2  Labrador Nature Reserve  Nature & Wildlife   \n",
       "3         Jurong Bird Park  Nature & Wildlife   \n",
       "4  MacRitchie Nature Trail  Nature & Wildlife   \n",
       "\n",
       "                                             ADDRESS  \\\n",
       "0  80 Mandai Lake Road Singapore Zoological Garde...   \n",
       "1  MacRitchie Reservoir Park, Singapore 298717, S...   \n",
       "2  Labrador Villa Road Tanjong Berlayer Park, Sin...   \n",
       "3  2 Jurong Hill Jurong Bird Park, Singapore 6289...   \n",
       "4  MacRitchie Reservoir Park, Singapore 298717, S...   \n",
       "\n",
       "                                          clean_text                     Topic  \n",
       "0  love afternoon tour stayed hour well laid supe...  Interaction with Animals  \n",
       "1  great place nature concrete jungle love wildli...  Interaction with Animals  \n",
       "2  place history place relax family love greenery...  Interaction with Animals  \n",
       "3  superb marvellous take ram drop station see th...  Interaction with Animals  \n",
       "4  excellent place trek jogging many trial tree t...  Interaction with Animals  "
      ]
     },
     "execution_count": 28,
     "metadata": {},
     "output_type": "execute_result"
    }
   ],
   "source": [
    "labels_df2 = labels_df2.rename(columns = {0:'Topic'})\n",
    "df_NW = pd.concat([df2.reset_index(), labels_df2],axis=1)\n",
    "\n",
    "df_NW['Topic'] = df_NW['Topic'].replace({\n",
    "    0: 'Environment', \n",
    "    1: 'Animal Show',\n",
    "    2: 'Exploration Efficiency',\n",
    "    3: 'Interaction with Animals',\n",
    "    4: 'Nature'\n",
    "})\n",
    "\n",
    "df_NW.head()"
   ]
  },
  {
   "cell_type": "code",
   "execution_count": 62,
   "metadata": {},
   "outputs": [
    {
     "data": {
      "text/plain": [
       "(array([0, 1, 2, 3, 4]),\n",
       " [Text(0, 0, 'Interaction with Animals'),\n",
       "  Text(1, 0, 'Environment'),\n",
       "  Text(2, 0, 'Nature'),\n",
       "  Text(3, 0, 'Animal Show'),\n",
       "  Text(4, 0, 'Exploration Efficiency')])"
      ]
     },
     "execution_count": 62,
     "metadata": {},
     "output_type": "execute_result"
    },
    {
     "data": {
      "image/png": "[encoded data removed]",
      "text/plain": [
       "<Figure size 432x288 with 1 Axes>"
      ]
     },
     "metadata": {
      "needs_background": "light"
     },
     "output_type": "display_data"
    }
   ],
   "source": [
    "sns.countplot(x = df_NW['Topic'])\n",
    "plt.xticks(rotation = 90)"
   ]
  },
  {
   "cell_type": "markdown",
   "metadata": {},
   "source": [
    "## Art, History & Culture"
   ]
  },
  {
   "cell_type": "code",
   "execution_count": 29,
   "metadata": {},
   "outputs": [
    {
     "data": {
      "text/plain": [
       "'Art, History & Culture'"
      ]
     },
     "execution_count": 29,
     "metadata": {},
     "output_type": "execute_result"
    }
   ],
   "source": [
    "atypes[3]"
   ]
  },
  {
   "cell_type": "code",
   "execution_count": 30,
   "metadata": {},
   "outputs": [],
   "source": [
    "# generate topics for each attraction type\n",
    "df3 = data[data['ATTRACTION_TYPE']==atypes[3]]\n",
    "# vectorize text data\n",
    "vectorizer = TfidfVectorizer()\n",
    "vectorizer.fit(df3['clean_text'])\n",
    "\n",
    "# save the model to disk\n",
    "#filename_vec = 'vectorizer_model.sav'\n",
    "#pickle.dump(vectorizer, open(filename_vec, 'wb'))\n",
    "\n",
    "# transform the text into vectorizer\n",
    "X3 = vectorizer.transform(df3['clean_text'])"
   ]
  },
  {
   "cell_type": "code",
   "execution_count": 31,
   "metadata": {},
   "outputs": [
    {
     "name": "stderr",
     "output_type": "stream",
     "text": [
      "100%|████████████████████████████████████████████████████████████████████████████████| 8/8 [7:25:22<00:00, 3340.33s/it]\n"
     ]
    }
   ],
   "source": [
    "from sklearn.cluster import KMeans\n",
    "from sklearn.metrics import silhouette_score\n",
    "from tqdm import tqdm\n",
    "\n",
    "sil3 = []\n",
    "sse3 = []\n",
    "kmax = 9\n",
    "\n",
    "# dissimilarity would not be defined for a single cluster, thus, minimum number of clusters should be 2\n",
    "for k in tqdm(range(2, kmax+1)):\n",
    "    kmeans = KMeans(n_clusters = k).fit(X3)\n",
    "    labels = kmeans.labels_\n",
    "    sse3.append(kmeans.inertia_)\n",
    "    sil3.append(silhouette_score(X3, labels, metric = 'euclidean'))"
   ]
  },
  {
   "cell_type": "code",
   "execution_count": 32,
   "metadata": {},
   "outputs": [
    {
     "data": {
      "image/png": "[encoded data removed]",
      "text/plain": [
       "<Figure size 720x360 with 1 Axes>"
      ]
     },
     "metadata": {
      "needs_background": "light"
     },
     "output_type": "display_data"
    },
    {
     "data": {
      "text/plain": [
       "<AxesSubplot:>"
      ]
     },
     "execution_count": 32,
     "metadata": {},
     "output_type": "execute_result"
    },
    {
     "data": {
      "image/png": "[encoded data removed]",
      "text/plain": [
       "<Figure size 432x288 with 1 Axes>"
      ]
     },
     "metadata": {
      "needs_background": "light"
     },
     "output_type": "display_data"
    }
   ],
   "source": [
    "plt.figure(figsize = (10,5))\n",
    "sns.lineplot(x = list(range(2,kmax+1)), y = sil3)\n",
    "plt.xlabel('Number of Clusters')\n",
    "plt.ylabel('Silhouette Scores')\n",
    "plt.show()\n",
    "sns.lineplot(x = list(range(2,kmax+1)), y = sse3)"
   ]
  },
  {
   "cell_type": "code",
   "execution_count": 33,
   "metadata": {},
   "outputs": [
    {
     "name": "stdout",
     "output_type": "stream",
     "text": [
      "Attraction type: Art, History & Culture\n",
      "Topic #0:\n",
      "peranakan alvin wear intan shoulder culture host owner shawl skirt\n",
      "Attraction type: Art, History & Culture\n",
      "Topic #1:\n",
      "singapore visit place not museum see tour temple take well\n",
      "Attraction type: Art, History & Culture\n",
      "Topic #2:\n",
      "merlion bay lion park boat marina icon river water landmark\n",
      "Attraction type: Art, History & Culture\n",
      "Topic #3:\n",
      "hop meaning vision christmas marvelous andrew whale budha yin gothic\n"
     ]
    }
   ],
   "source": [
    "# build LDA model\n",
    "lda3 = LatentDirichletAllocation(n_components=4, max_iter=10, learning_method='online', learning_offset=5, random_state=2017)\n",
    "lda3.fit(X3)\n",
    "# save the model to disk\n",
    "#filename_lda = 'lda_model.sav'\n",
    "#pickle.dump(lda, open(filename_lda, 'wb'))\n",
    "\n",
    "feature_names3 = np.array(vectorizer.get_feature_names())\n",
    "for topic_idx, topic in enumerate(lda3.components_):\n",
    "    print('Attraction type: {}'.format(atypes[3]))\n",
    "    print(\"Topic #%d:\" % topic_idx)\n",
    "    print(\" \".join([feature_names3[i] for i in topic.argsort()[:-10 - 1:-1]]))"
   ]
  },
  {
   "cell_type": "code",
   "execution_count": 34,
   "metadata": {},
   "outputs": [],
   "source": [
    "mat3 = lda3.transform(X3) \n",
    "\n",
    "topic_dist3 = mat3\n",
    "\n",
    "labels3 = [-1]*len(topic_dist3)\n",
    "    \n",
    "i = 0\n",
    "for dist in topic_dist3:\n",
    "    dist = dist.tolist()\n",
    "    if len(set(dist)) != 1:\n",
    "        review_topic_index = dist.index(max(dist))\n",
    "        review_max_topic_probality = dist[review_topic_index]\n",
    "        labels3[i]=review_topic_index\n",
    "        i = i + 1\n",
    "    else:\n",
    "        i = i + 1\n",
    "\n",
    "labels_df3 = pd.DataFrame(labels3)"
   ]
  },
  {
   "cell_type": "code",
   "execution_count": 38,
   "metadata": {},
   "outputs": [
    {
     "data": {
      "text/html": [
       "<div>\n",
       "<style scoped>\n",
       "    .dataframe tbody tr th:only-of-type {\n",
       "        vertical-align: middle;\n",
       "    }\n",
       "\n",
       "    .dataframe tbody tr th {\n",
       "        vertical-align: top;\n",
       "    }\n",
       "\n",
       "    .dataframe thead th {\n",
       "        text-align: right;\n",
       "    }\n",
       "</style>\n",
       "<table border=\"1\" class=\"dataframe\">\n",
       "  <thead>\n",
       "    <tr style=\"text-align: right;\">\n",
       "      <th></th>\n",
       "      <th>index</th>\n",
       "      <th>REVIEW_INDEX</th>\n",
       "      <th>REVIEW_DATE</th>\n",
       "      <th>REVIEW_RATING</th>\n",
       "      <th>REVIEW_TITLE</th>\n",
       "      <th>REVIEW_BODY</th>\n",
       "      <th>DATE_OF_EXPERIENCE</th>\n",
       "      <th>TRIP_TYPE</th>\n",
       "      <th>REVIEW_CRAWLED_TIME</th>\n",
       "      <th>REVIEWER_NAME</th>\n",
       "      <th>HOME_COUNTRY</th>\n",
       "      <th>ATTRACTION_NAME</th>\n",
       "      <th>ATTRACTION_TYPE</th>\n",
       "      <th>ADDRESS</th>\n",
       "      <th>clean_text</th>\n",
       "      <th>Topic</th>\n",
       "    </tr>\n",
       "  </thead>\n",
       "  <tbody>\n",
       "  </tbody>\n",
       "</table>\n",
       "</div>"
      ],
      "text/plain": [
       "Empty DataFrame\n",
       "Columns: [index, REVIEW_INDEX, REVIEW_DATE, REVIEW_RATING, REVIEW_TITLE, REVIEW_BODY, DATE_OF_EXPERIENCE, TRIP_TYPE, REVIEW_CRAWLED_TIME, REVIEWER_NAME, HOME_COUNTRY, ATTRACTION_NAME, ATTRACTION_TYPE, ADDRESS, clean_text, Topic]\n",
       "Index: []"
      ]
     },
     "execution_count": 38,
     "metadata": {},
     "output_type": "execute_result"
    }
   ],
   "source": [
    "df_AHC[df_AHC['Topic']==3]"
   ]
  },
  {
   "cell_type": "code",
   "execution_count": 39,
   "metadata": {},
   "outputs": [
    {
     "data": {
      "text/html": [
       "<div>\n",
       "<style scoped>\n",
       "    .dataframe tbody tr th:only-of-type {\n",
       "        vertical-align: middle;\n",
       "    }\n",
       "\n",
       "    .dataframe tbody tr th {\n",
       "        vertical-align: top;\n",
       "    }\n",
       "\n",
       "    .dataframe thead th {\n",
       "        text-align: right;\n",
       "    }\n",
       "</style>\n",
       "<table border=\"1\" class=\"dataframe\">\n",
       "  <thead>\n",
       "    <tr style=\"text-align: right;\">\n",
       "      <th></th>\n",
       "      <th>index</th>\n",
       "      <th>REVIEW_INDEX</th>\n",
       "      <th>REVIEW_DATE</th>\n",
       "      <th>REVIEW_RATING</th>\n",
       "      <th>REVIEW_TITLE</th>\n",
       "      <th>REVIEW_BODY</th>\n",
       "      <th>DATE_OF_EXPERIENCE</th>\n",
       "      <th>TRIP_TYPE</th>\n",
       "      <th>REVIEW_CRAWLED_TIME</th>\n",
       "      <th>REVIEWER_NAME</th>\n",
       "      <th>HOME_COUNTRY</th>\n",
       "      <th>ATTRACTION_NAME</th>\n",
       "      <th>ATTRACTION_TYPE</th>\n",
       "      <th>ADDRESS</th>\n",
       "      <th>clean_text</th>\n",
       "      <th>Topic</th>\n",
       "    </tr>\n",
       "  </thead>\n",
       "  <tbody>\n",
       "    <tr>\n",
       "      <th>0</th>\n",
       "      <td>5</td>\n",
       "      <td>741822483</td>\n",
       "      <td>2020-01-29 00:00:00.000</td>\n",
       "      <td>4</td>\n",
       "      <td>Photo Spot</td>\n",
       "      <td>The Merlion is the symbolic sculpture of Singa...</td>\n",
       "      <td>2020-01-01 00:00:00.000</td>\n",
       "      <td>Couples</td>\n",
       "      <td>2020-01-30 01:48:09.408</td>\n",
       "      <td>MR_Travels1920</td>\n",
       "      <td>United Kingdom</td>\n",
       "      <td>Merlion Park</td>\n",
       "      <td>Art, History &amp; Culture</td>\n",
       "      <td>1 Fullerton Road One Fullerton | Merlion Park,...</td>\n",
       "      <td>merlion symbolic sculpture singapore centrally...</td>\n",
       "      <td>Artwork Quality</td>\n",
       "    </tr>\n",
       "    <tr>\n",
       "      <th>1</th>\n",
       "      <td>8</td>\n",
       "      <td>741821081</td>\n",
       "      <td>2020-01-29 00:00:00.000</td>\n",
       "      <td>4</td>\n",
       "      <td>New Year's Eve</td>\n",
       "      <td>We had an amazing experience watching the fire...</td>\n",
       "      <td>2020-01-01 00:00:00.000</td>\n",
       "      <td>Couples</td>\n",
       "      <td>2020-01-30 05:55:55.372</td>\n",
       "      <td>MR_Travels1920</td>\n",
       "      <td>United Kingdom</td>\n",
       "      <td>The Helix Bridge</td>\n",
       "      <td>Art, History &amp; Culture</td>\n",
       "      <td>Linking between Marina Bay and Marina Centre, ...</td>\n",
       "      <td>amaze experience watch firework drone helix br...</td>\n",
       "      <td>Artwork Quality</td>\n",
       "    </tr>\n",
       "    <tr>\n",
       "      <th>2</th>\n",
       "      <td>12</td>\n",
       "      <td>741644516</td>\n",
       "      <td>2020-01-28 00:00:00.000</td>\n",
       "      <td>4</td>\n",
       "      <td>Good history lesson</td>\n",
       "      <td>We got there for a free 1-hour tour in English...</td>\n",
       "      <td>2020-01-01 00:00:00.000</td>\n",
       "      <td>Couples</td>\n",
       "      <td>2020-01-29 19:33:34.847</td>\n",
       "      <td>tinymomkaren</td>\n",
       "      <td>United States</td>\n",
       "      <td>National Museum of Singapore</td>\n",
       "      <td>Art, History &amp; Culture</td>\n",
       "      <td>93 Stamford Road National Museum of Singapore,...</td>\n",
       "      <td>get free hour tour english early afternoon gui...</td>\n",
       "      <td>Artwork Quality</td>\n",
       "    </tr>\n",
       "    <tr>\n",
       "      <th>3</th>\n",
       "      <td>15</td>\n",
       "      <td>741644880</td>\n",
       "      <td>2020-01-28 00:00:00.000</td>\n",
       "      <td>5</td>\n",
       "      <td>You MUST see the Tang Shipwreck</td>\n",
       "      <td>This museum has many wonderful things, but the...</td>\n",
       "      <td>2020-01-01 00:00:00.000</td>\n",
       "      <td>Couples</td>\n",
       "      <td>2020-01-30 05:32:24.128</td>\n",
       "      <td>tinymomkaren</td>\n",
       "      <td>United States</td>\n",
       "      <td>Asian Civilisations Museum</td>\n",
       "      <td>Art, History &amp; Culture</td>\n",
       "      <td>1 Empress Place Empress Place Building, Singap...</td>\n",
       "      <td>museum many wonderful thing cargo year old tan...</td>\n",
       "      <td>Artwork Quality</td>\n",
       "    </tr>\n",
       "    <tr>\n",
       "      <th>4</th>\n",
       "      <td>28</td>\n",
       "      <td>741363647</td>\n",
       "      <td>2020-01-26 00:00:00.000</td>\n",
       "      <td>4</td>\n",
       "      <td>You Havenâ€™t Been To Singapore If...</td>\n",
       "      <td>There are a couple things that people will tel...</td>\n",
       "      <td>2019-11-01 00:00:00.000</td>\n",
       "      <td>Couples</td>\n",
       "      <td>2020-01-30 01:48:09.779</td>\n",
       "      <td>gconti82</td>\n",
       "      <td>United States</td>\n",
       "      <td>Merlion Park</td>\n",
       "      <td>Art, History &amp; Culture</td>\n",
       "      <td>1 Fullerton Road One Fullerton | Merlion Park,...</td>\n",
       "      <td>couple thing people tell must seendone visit s...</td>\n",
       "      <td>Artwork Quality</td>\n",
       "    </tr>\n",
       "  </tbody>\n",
       "</table>\n",
       "</div>"
      ],
      "text/plain": [
       "   index  REVIEW_INDEX              REVIEW_DATE  REVIEW_RATING  \\\n",
       "0      5     741822483  2020-01-29 00:00:00.000              4   \n",
       "1      8     741821081  2020-01-29 00:00:00.000              4   \n",
       "2     12     741644516  2020-01-28 00:00:00.000              4   \n",
       "3     15     741644880  2020-01-28 00:00:00.000              5   \n",
       "4     28     741363647  2020-01-26 00:00:00.000              4   \n",
       "\n",
       "                            REVIEW_TITLE  \\\n",
       "0                             Photo Spot   \n",
       "1                         New Year's Eve   \n",
       "2                    Good history lesson   \n",
       "3        You MUST see the Tang Shipwreck   \n",
       "4  You Havenâ€™t Been To Singapore If...   \n",
       "\n",
       "                                         REVIEW_BODY       DATE_OF_EXPERIENCE  \\\n",
       "0  The Merlion is the symbolic sculpture of Singa...  2020-01-01 00:00:00.000   \n",
       "1  We had an amazing experience watching the fire...  2020-01-01 00:00:00.000   \n",
       "2  We got there for a free 1-hour tour in English...  2020-01-01 00:00:00.000   \n",
       "3  This museum has many wonderful things, but the...  2020-01-01 00:00:00.000   \n",
       "4  There are a couple things that people will tel...  2019-11-01 00:00:00.000   \n",
       "\n",
       "  TRIP_TYPE      REVIEW_CRAWLED_TIME   REVIEWER_NAME    HOME_COUNTRY  \\\n",
       "0   Couples  2020-01-30 01:48:09.408  MR_Travels1920  United Kingdom   \n",
       "1   Couples  2020-01-30 05:55:55.372  MR_Travels1920  United Kingdom   \n",
       "2   Couples  2020-01-29 19:33:34.847    tinymomkaren   United States   \n",
       "3   Couples  2020-01-30 05:32:24.128    tinymomkaren   United States   \n",
       "4   Couples  2020-01-30 01:48:09.779        gconti82   United States   \n",
       "\n",
       "                ATTRACTION_NAME         ATTRACTION_TYPE  \\\n",
       "0                  Merlion Park  Art, History & Culture   \n",
       "1              The Helix Bridge  Art, History & Culture   \n",
       "2  National Museum of Singapore  Art, History & Culture   \n",
       "3    Asian Civilisations Museum  Art, History & Culture   \n",
       "4                  Merlion Park  Art, History & Culture   \n",
       "\n",
       "                                             ADDRESS  \\\n",
       "0  1 Fullerton Road One Fullerton | Merlion Park,...   \n",
       "1  Linking between Marina Bay and Marina Centre, ...   \n",
       "2  93 Stamford Road National Museum of Singapore,...   \n",
       "3  1 Empress Place Empress Place Building, Singap...   \n",
       "4  1 Fullerton Road One Fullerton | Merlion Park,...   \n",
       "\n",
       "                                          clean_text            Topic  \n",
       "0  merlion symbolic sculpture singapore centrally...  Artwork Quality  \n",
       "1  amaze experience watch firework drone helix br...  Artwork Quality  \n",
       "2  get free hour tour english early afternoon gui...  Artwork Quality  \n",
       "3  museum many wonderful thing cargo year old tan...  Artwork Quality  \n",
       "4  couple thing people tell must seendone visit s...  Artwork Quality  "
      ]
     },
     "execution_count": 39,
     "metadata": {},
     "output_type": "execute_result"
    }
   ],
   "source": [
    "labels_df3 = labels_df3.rename(columns = {0:'Topic'})\n",
    "df_AHC = pd.concat([df3.reset_index(), labels_df3],axis=1)\n",
    "\n",
    "df_AHC['Topic'] = df_AHC['Topic'].replace({\n",
    "    0: 'Cultural Atmosphere', \n",
    "    1: 'Artwork Quality',\n",
    "    2: 'View',\n",
    "    3: 'Temple History',\n",
    "})\n",
    "\n",
    "df_AHC.head()"
   ]
  },
  {
   "cell_type": "code",
   "execution_count": 63,
   "metadata": {},
   "outputs": [
    {
     "data": {
      "text/plain": [
       "(array([0, 1, 2, 3]),\n",
       " [Text(0, 0, 'Artwork Quality'),\n",
       "  Text(1, 0, 'View'),\n",
       "  Text(2, 0, 'Temple History'),\n",
       "  Text(3, 0, 'Cultural Atmosphere')])"
      ]
     },
     "execution_count": 63,
     "metadata": {},
     "output_type": "execute_result"
    },
    {
     "data": {
      "image/png": "[encoded data removed]",
      "text/plain": [
       "<Figure size 432x288 with 1 Axes>"
      ]
     },
     "metadata": {
      "needs_background": "light"
     },
     "output_type": "display_data"
    }
   ],
   "source": [
    "sns.countplot(x = df_AHC['Topic'])\n",
    "plt.xticks(rotation = 90)"
   ]
  },
  {
   "cell_type": "code",
   "execution_count": 40,
   "metadata": {},
   "outputs": [],
   "source": [
    "df = pd.concat([df_LR, df_PS, df_NW, df_AHC], ignore_index=True)\n",
    "df = df.drop('index',axis = 1)"
   ]
  },
  {
   "cell_type": "code",
   "execution_count": 50,
   "metadata": {},
   "outputs": [],
   "source": [
    "df['REVIEW_BODY']= df['REVIEW_BODY'].str.replace(',', \" \")\n",
    "df['ADDRESS']= df['ADDRESS'].str.replace(',', \" \")\n"
   ]
  },
  {
   "cell_type": "code",
   "execution_count": 53,
   "metadata": {},
   "outputs": [],
   "source": [
    "df.to_csv('named_topics_by_type.csv', sep= ';', index = True)"
   ]
  },
  {
   "cell_type": "code",
   "execution_count": 52,
   "metadata": {
    "scrolled": false
   },
   "outputs": [
    {
     "data": {
      "text/html": [
       "<div>\n",
       "<style scoped>\n",
       "    .dataframe tbody tr th:only-of-type {\n",
       "        vertical-align: middle;\n",
       "    }\n",
       "\n",
       "    .dataframe tbody tr th {\n",
       "        vertical-align: top;\n",
       "    }\n",
       "\n",
       "    .dataframe thead th {\n",
       "        text-align: right;\n",
       "    }\n",
       "</style>\n",
       "<table border=\"1\" class=\"dataframe\">\n",
       "  <thead>\n",
       "    <tr style=\"text-align: right;\">\n",
       "      <th></th>\n",
       "      <th>REVIEW_INDEX</th>\n",
       "      <th>REVIEW_DATE</th>\n",
       "      <th>REVIEW_RATING</th>\n",
       "      <th>REVIEW_TITLE</th>\n",
       "      <th>REVIEW_BODY</th>\n",
       "      <th>DATE_OF_EXPERIENCE</th>\n",
       "      <th>TRIP_TYPE</th>\n",
       "      <th>REVIEW_CRAWLED_TIME</th>\n",
       "      <th>REVIEWER_NAME</th>\n",
       "      <th>HOME_COUNTRY</th>\n",
       "      <th>ATTRACTION_NAME</th>\n",
       "      <th>ATTRACTION_TYPE</th>\n",
       "      <th>ADDRESS</th>\n",
       "      <th>clean_text</th>\n",
       "      <th>Topic</th>\n",
       "    </tr>\n",
       "  </thead>\n",
       "  <tbody>\n",
       "    <tr>\n",
       "      <th>0</th>\n",
       "      <td>741832336</td>\n",
       "      <td>2020-01-29 00:00:00.000</td>\n",
       "      <td>5</td>\n",
       "      <td>Fabulous</td>\n",
       "      <td>Fabulous experience and an unforgettable day o...</td>\n",
       "      <td>2020-01-01 00:00:00.000</td>\n",
       "      <td>Couples</td>\n",
       "      <td>2020-01-29 12:01:27.012</td>\n",
       "      <td>Dreinog</td>\n",
       "      <td>United Kingdom</td>\n",
       "      <td>Cloud Forest</td>\n",
       "      <td>Leisure &amp; Recreation</td>\n",
       "      <td>18 Marina Gardens Drive | 18 Marina Gardens Dr...</td>\n",
       "      <td>fabulous experience unforgettable day singapor...</td>\n",
       "      <td>Garden Tour</td>\n",
       "    </tr>\n",
       "    <tr>\n",
       "      <th>1</th>\n",
       "      <td>741819214</td>\n",
       "      <td>2020-01-29 00:00:00.000</td>\n",
       "      <td>5</td>\n",
       "      <td>Stunning</td>\n",
       "      <td>I wasnâ€™t sure what to expect but this was ab...</td>\n",
       "      <td>2020-01-01 00:00:00.000</td>\n",
       "      <td>Family</td>\n",
       "      <td>2020-01-29 11:30:13.663</td>\n",
       "      <td>3mcglynns</td>\n",
       "      <td>Australia</td>\n",
       "      <td>Cloud Forest</td>\n",
       "      <td>Leisure &amp; Recreation</td>\n",
       "      <td>18 Marina Gardens Drive | 18 Marina Gardens Dr...</td>\n",
       "      <td>wasnatmt sure expect absolutely beautiful moth...</td>\n",
       "      <td>Garden Tour</td>\n",
       "    </tr>\n",
       "    <tr>\n",
       "      <th>2</th>\n",
       "      <td>741766715</td>\n",
       "      <td>2020-01-28 00:00:00.000</td>\n",
       "      <td>5</td>\n",
       "      <td>Great place</td>\n",
       "      <td>Perhaps the best attraction in Singapore ... v...</td>\n",
       "      <td>2020-01-01 00:00:00.000</td>\n",
       "      <td>Couples</td>\n",
       "      <td>2020-01-29 10:38:29.069</td>\n",
       "      <td>OHIduke</td>\n",
       "      <td>United Kingdom</td>\n",
       "      <td>National Orchid Garden</td>\n",
       "      <td>Leisure &amp; Recreation</td>\n",
       "      <td>1 Cluny Rd | Within the Singapore Botanic Gard...</td>\n",
       "      <td>perhaps best attraction singapore well preserv...</td>\n",
       "      <td>Garden Tour</td>\n",
       "    </tr>\n",
       "    <tr>\n",
       "      <th>3</th>\n",
       "      <td>741810174</td>\n",
       "      <td>2020-01-28 00:00:00.000</td>\n",
       "      <td>5</td>\n",
       "      <td>Family trip to Singapore</td>\n",
       "      <td>View of whole Singapore from floor no. 56 is v...</td>\n",
       "      <td>2020-01-01 00:00:00.000</td>\n",
       "      <td>Family</td>\n",
       "      <td>2020-01-29 13:09:47.153</td>\n",
       "      <td>vaibhav_maheshwari56</td>\n",
       "      <td>India</td>\n",
       "      <td>Marina Bay Sands Skypark</td>\n",
       "      <td>Leisure &amp; Recreation</td>\n",
       "      <td>10 Bayfront Avenue | Level 57  Marina Bay Sand...</td>\n",
       "      <td>view whole singapore floor amaze beautiful nic...</td>\n",
       "      <td>Garden Tour</td>\n",
       "    </tr>\n",
       "    <tr>\n",
       "      <th>4</th>\n",
       "      <td>741680428</td>\n",
       "      <td>2020-01-28 00:00:00.000</td>\n",
       "      <td>4</td>\n",
       "      <td>Expensive but fantastic views</td>\n",
       "      <td>It has to be done  visit this iconic building ...</td>\n",
       "      <td>2020-01-01 00:00:00.000</td>\n",
       "      <td>Couples</td>\n",
       "      <td>2020-01-29 13:29:07.441</td>\n",
       "      <td>FionaH252</td>\n",
       "      <td>United Kingdom</td>\n",
       "      <td>Marina Bay Sands Skypark</td>\n",
       "      <td>Leisure &amp; Recreation</td>\n",
       "      <td>10 Bayfront Avenue | Level 57  Marina Bay Sand...</td>\n",
       "      <td>do visit iconic building travel top see singap...</td>\n",
       "      <td>Transportation and Tickets</td>\n",
       "    </tr>\n",
       "  </tbody>\n",
       "</table>\n",
       "</div>"
      ],
      "text/plain": [
       "   REVIEW_INDEX              REVIEW_DATE  REVIEW_RATING  \\\n",
       "0     741832336  2020-01-29 00:00:00.000              5   \n",
       "1     741819214  2020-01-29 00:00:00.000              5   \n",
       "2     741766715  2020-01-28 00:00:00.000              5   \n",
       "3     741810174  2020-01-28 00:00:00.000              5   \n",
       "4     741680428  2020-01-28 00:00:00.000              4   \n",
       "\n",
       "                    REVIEW_TITLE  \\\n",
       "0                       Fabulous   \n",
       "1                       Stunning   \n",
       "2                    Great place   \n",
       "3       Family trip to Singapore   \n",
       "4  Expensive but fantastic views   \n",
       "\n",
       "                                         REVIEW_BODY       DATE_OF_EXPERIENCE  \\\n",
       "0  Fabulous experience and an unforgettable day o...  2020-01-01 00:00:00.000   \n",
       "1  I wasnâ€™t sure what to expect but this was ab...  2020-01-01 00:00:00.000   \n",
       "2  Perhaps the best attraction in Singapore ... v...  2020-01-01 00:00:00.000   \n",
       "3  View of whole Singapore from floor no. 56 is v...  2020-01-01 00:00:00.000   \n",
       "4  It has to be done  visit this iconic building ...  2020-01-01 00:00:00.000   \n",
       "\n",
       "  TRIP_TYPE      REVIEW_CRAWLED_TIME         REVIEWER_NAME    HOME_COUNTRY  \\\n",
       "0   Couples  2020-01-29 12:01:27.012               Dreinog  United Kingdom   \n",
       "1    Family  2020-01-29 11:30:13.663             3mcglynns       Australia   \n",
       "2   Couples  2020-01-29 10:38:29.069               OHIduke  United Kingdom   \n",
       "3    Family  2020-01-29 13:09:47.153  vaibhav_maheshwari56           India   \n",
       "4   Couples  2020-01-29 13:29:07.441             FionaH252  United Kingdom   \n",
       "\n",
       "            ATTRACTION_NAME       ATTRACTION_TYPE  \\\n",
       "0              Cloud Forest  Leisure & Recreation   \n",
       "1              Cloud Forest  Leisure & Recreation   \n",
       "2    National Orchid Garden  Leisure & Recreation   \n",
       "3  Marina Bay Sands Skypark  Leisure & Recreation   \n",
       "4  Marina Bay Sands Skypark  Leisure & Recreation   \n",
       "\n",
       "                                             ADDRESS  \\\n",
       "0  18 Marina Gardens Drive | 18 Marina Gardens Dr...   \n",
       "1  18 Marina Gardens Drive | 18 Marina Gardens Dr...   \n",
       "2  1 Cluny Rd | Within the Singapore Botanic Gard...   \n",
       "3  10 Bayfront Avenue | Level 57  Marina Bay Sand...   \n",
       "4  10 Bayfront Avenue | Level 57  Marina Bay Sand...   \n",
       "\n",
       "                                          clean_text  \\\n",
       "0  fabulous experience unforgettable day singapor...   \n",
       "1  wasnatmt sure expect absolutely beautiful moth...   \n",
       "2  perhaps best attraction singapore well preserv...   \n",
       "3  view whole singapore floor amaze beautiful nic...   \n",
       "4  do visit iconic building travel top see singap...   \n",
       "\n",
       "                        Topic  \n",
       "0                 Garden Tour  \n",
       "1                 Garden Tour  \n",
       "2                 Garden Tour  \n",
       "3                 Garden Tour  \n",
       "4  Transportation and Tickets  "
      ]
     },
     "execution_count": 52,
     "metadata": {},
     "output_type": "execute_result"
    }
   ],
   "source": [
    "df.head()"
   ]
  },
  {
   "cell_type": "code",
   "execution_count": null,
   "metadata": {},
   "outputs": [],
   "source": []
  }
 ],
 "metadata": {
  "kernelspec": {
   "display_name": "Python 3",
   "language": "python",
   "name": "python3"
  },
  "language_info": {
   "codemirror_mode": {
    "name": "ipython",
    "version": 3
   },
   "file_extension": ".py",
   "mimetype": "text/x-python",
   "name": "python",
   "nbconvert_exporter": "python",
   "pygments_lexer": "ipython3",
   "version": "3.8.5"
  }
 },
 "nbformat": 4,
 "nbformat_minor": 5
}
