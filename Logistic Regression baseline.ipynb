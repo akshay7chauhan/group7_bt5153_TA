{
 "cells": [
  {
   "cell_type": "markdown",
   "id": "growing-slave",
   "metadata": {},
   "source": [
    "train a LR model based on ratings to predict how likely a certain type of Visitor is to leave a positive review about an attraction place"
   ]
  },
  {
   "cell_type": "code",
   "execution_count": 1,
   "id": "controlling-maryland",
   "metadata": {},
   "outputs": [],
   "source": [
    "import pandas as pd"
   ]
  },
  {
   "cell_type": "code",
   "execution_count": 2,
   "id": "subject-artwork",
   "metadata": {},
   "outputs": [],
   "source": [
    "df = pd.read_csv('singapore_trip_advisor_data.csv')"
   ]
  },
  {
   "cell_type": "code",
   "execution_count": 3,
   "id": "ready-detector",
   "metadata": {},
   "outputs": [
    {
     "data": {
      "text/html": [
       "<div>\n",
       "<style scoped>\n",
       "    .dataframe tbody tr th:only-of-type {\n",
       "        vertical-align: middle;\n",
       "    }\n",
       "\n",
       "    .dataframe tbody tr th {\n",
       "        vertical-align: top;\n",
       "    }\n",
       "\n",
       "    .dataframe thead th {\n",
       "        text-align: right;\n",
       "    }\n",
       "</style>\n",
       "<table border=\"1\" class=\"dataframe\">\n",
       "  <thead>\n",
       "    <tr style=\"text-align: right;\">\n",
       "      <th></th>\n",
       "      <th>REVIEW_INDEX</th>\n",
       "      <th>REVIEW_DATE</th>\n",
       "      <th>REVIEW_RATING</th>\n",
       "      <th>REVIEW_TITLE</th>\n",
       "      <th>REVIEW_BODY</th>\n",
       "      <th>DATE_OF_EXPERIENCE</th>\n",
       "      <th>TRIP_TYPE</th>\n",
       "      <th>REVIEW_CRAWLED_TIME</th>\n",
       "      <th>REVIEWER_NAME</th>\n",
       "      <th>HOME_COUNTRY</th>\n",
       "      <th>ATTRACTION_NAME</th>\n",
       "      <th>ATTRACTION_TYPE</th>\n",
       "      <th>ADDRESS</th>\n",
       "    </tr>\n",
       "  </thead>\n",
       "  <tbody>\n",
       "    <tr>\n",
       "      <th>50849</th>\n",
       "      <td>544519678</td>\n",
       "      <td>2017-12-02 00:00:00.000</td>\n",
       "      <td>5</td>\n",
       "      <td>Icon for Singapore</td>\n",
       "      <td>The statue is on the Singapore River and open ...</td>\n",
       "      <td>2017-11-01 00:00:00.000</td>\n",
       "      <td>Friends</td>\n",
       "      <td>2020-01-30 02:15:24.906</td>\n",
       "      <td>peach8054</td>\n",
       "      <td>United States</td>\n",
       "      <td>Merlion Park</td>\n",
       "      <td>Art, History &amp; Culture</td>\n",
       "      <td>1 Fullerton Road One Fullerton | Merlion Park,...</td>\n",
       "    </tr>\n",
       "    <tr>\n",
       "      <th>95340</th>\n",
       "      <td>420121541</td>\n",
       "      <td>2016-09-19 00:00:00.000</td>\n",
       "      <td>5</td>\n",
       "      <td>Wow</td>\n",
       "      <td>This is the best zoo by far. It is simply the ...</td>\n",
       "      <td>2016-09-01 00:00:00.000</td>\n",
       "      <td>Friends</td>\n",
       "      <td>2020-01-26 13:18:00.898</td>\n",
       "      <td>Mel C</td>\n",
       "      <td>NaN</td>\n",
       "      <td>Singapore Zoo</td>\n",
       "      <td>Nature &amp; Wildlife</td>\n",
       "      <td>80 Mandai Lake Road, Singapore 729826, Singapore</td>\n",
       "    </tr>\n",
       "    <tr>\n",
       "      <th>122667</th>\n",
       "      <td>343468869</td>\n",
       "      <td>2016-01-29 00:00:00.000</td>\n",
       "      <td>5</td>\n",
       "      <td>Orchid lover's paradise</td>\n",
       "      <td>Located in the heart of The Singapore Botanic ...</td>\n",
       "      <td>2016-01-01 00:00:00.000</td>\n",
       "      <td>Couples</td>\n",
       "      <td>2020-01-29 11:08:01.645</td>\n",
       "      <td>ccelan</td>\n",
       "      <td>United States</td>\n",
       "      <td>National Orchid Garden</td>\n",
       "      <td>Leisure &amp; Recreation</td>\n",
       "      <td>1 Cluny Rd | Within the Singapore Botanic Gard...</td>\n",
       "    </tr>\n",
       "    <tr>\n",
       "      <th>117122</th>\n",
       "      <td>356135552</td>\n",
       "      <td>2016-03-17 00:00:00.000</td>\n",
       "      <td>5</td>\n",
       "      <td>Must go place in Singapore</td>\n",
       "      <td>This is one of the most happening places in to...</td>\n",
       "      <td>2016-02-01 00:00:00.000</td>\n",
       "      <td>Couples</td>\n",
       "      <td>2020-01-30 01:25:39.824</td>\n",
       "      <td>Rahulchopra-1212</td>\n",
       "      <td>India</td>\n",
       "      <td>Clarke Quay</td>\n",
       "      <td>Precinct &amp; Street</td>\n",
       "      <td>3 River Valley Road Clarke Quay | Nearest Trai...</td>\n",
       "    </tr>\n",
       "    <tr>\n",
       "      <th>58961</th>\n",
       "      <td>520760643</td>\n",
       "      <td>2017-09-03 00:00:00.000</td>\n",
       "      <td>4</td>\n",
       "      <td>A fun family experience</td>\n",
       "      <td>We took about 10 family members on the flyer, ...</td>\n",
       "      <td>2016-12-01 00:00:00.000</td>\n",
       "      <td>Family</td>\n",
       "      <td>2020-01-28 11:28:34.646</td>\n",
       "      <td>StephNOwen</td>\n",
       "      <td>United States</td>\n",
       "      <td>Singapore Flyer</td>\n",
       "      <td>Leisure &amp; Recreation</td>\n",
       "      <td>30 Raffles Avenue, Singapore 039803, Singapore</td>\n",
       "    </tr>\n",
       "  </tbody>\n",
       "</table>\n",
       "</div>"
      ],
      "text/plain": [
       "        REVIEW_INDEX              REVIEW_DATE  REVIEW_RATING  \\\n",
       "50849      544519678  2017-12-02 00:00:00.000              5   \n",
       "95340      420121541  2016-09-19 00:00:00.000              5   \n",
       "122667     343468869  2016-01-29 00:00:00.000              5   \n",
       "117122     356135552  2016-03-17 00:00:00.000              5   \n",
       "58961      520760643  2017-09-03 00:00:00.000              4   \n",
       "\n",
       "                      REVIEW_TITLE  \\\n",
       "50849           Icon for Singapore   \n",
       "95340                          Wow   \n",
       "122667     Orchid lover's paradise   \n",
       "117122  Must go place in Singapore   \n",
       "58961      A fun family experience   \n",
       "\n",
       "                                              REVIEW_BODY  \\\n",
       "50849   The statue is on the Singapore River and open ...   \n",
       "95340   This is the best zoo by far. It is simply the ...   \n",
       "122667  Located in the heart of The Singapore Botanic ...   \n",
       "117122  This is one of the most happening places in to...   \n",
       "58961   We took about 10 family members on the flyer, ...   \n",
       "\n",
       "             DATE_OF_EXPERIENCE TRIP_TYPE      REVIEW_CRAWLED_TIME  \\\n",
       "50849   2017-11-01 00:00:00.000   Friends  2020-01-30 02:15:24.906   \n",
       "95340   2016-09-01 00:00:00.000   Friends  2020-01-26 13:18:00.898   \n",
       "122667  2016-01-01 00:00:00.000   Couples  2020-01-29 11:08:01.645   \n",
       "117122  2016-02-01 00:00:00.000   Couples  2020-01-30 01:25:39.824   \n",
       "58961   2016-12-01 00:00:00.000    Family  2020-01-28 11:28:34.646   \n",
       "\n",
       "           REVIEWER_NAME   HOME_COUNTRY         ATTRACTION_NAME  \\\n",
       "50849          peach8054  United States            Merlion Park   \n",
       "95340              Mel C            NaN           Singapore Zoo   \n",
       "122667            ccelan  United States  National Orchid Garden   \n",
       "117122  Rahulchopra-1212          India             Clarke Quay   \n",
       "58961         StephNOwen  United States         Singapore Flyer   \n",
       "\n",
       "               ATTRACTION_TYPE  \\\n",
       "50849   Art, History & Culture   \n",
       "95340        Nature & Wildlife   \n",
       "122667    Leisure & Recreation   \n",
       "117122       Precinct & Street   \n",
       "58961     Leisure & Recreation   \n",
       "\n",
       "                                                  ADDRESS  \n",
       "50849   1 Fullerton Road One Fullerton | Merlion Park,...  \n",
       "95340    80 Mandai Lake Road, Singapore 729826, Singapore  \n",
       "122667  1 Cluny Rd | Within the Singapore Botanic Gard...  \n",
       "117122  3 River Valley Road Clarke Quay | Nearest Trai...  \n",
       "58961      30 Raffles Avenue, Singapore 039803, Singapore  "
      ]
     },
     "execution_count": 3,
     "metadata": {},
     "output_type": "execute_result"
    }
   ],
   "source": [
    "df.sample(5)"
   ]
  },
  {
   "cell_type": "code",
   "execution_count": 4,
   "id": "front-pregnancy",
   "metadata": {},
   "outputs": [],
   "source": [
    "# defining a positive review and non positive review\n",
    "\n",
    "# choosing rating 4 and 5 as a proxy for positive experience\n",
    "\n",
    "# and rating 3,2,1 as a non-positive experience"
   ]
  },
  {
   "cell_type": "code",
   "execution_count": 5,
   "id": "peaceful-commissioner",
   "metadata": {},
   "outputs": [],
   "source": [
    "# adding a experience column based on the above\n",
    "def positive_experience_segregator(rating_score):\n",
    "    if rating_score in [4,5]:\n",
    "        experience = \"positive\"\n",
    "    else:\n",
    "        experience = \"non-positive\"\n",
    "    return experience"
   ]
  },
  {
   "cell_type": "code",
   "execution_count": 6,
   "id": "featured-queens",
   "metadata": {},
   "outputs": [],
   "source": [
    "df['experience'] = df['REVIEW_RATING'].apply(positive_experience_segregator)"
   ]
  },
  {
   "cell_type": "code",
   "execution_count": 7,
   "id": "standing-giant",
   "metadata": {},
   "outputs": [],
   "source": [
    "########\n",
    "#### model 1\n",
    "########\n",
    "# features used - rating, trip type, home country, attraction name\n",
    "# target - experience"
   ]
  },
  {
   "cell_type": "code",
   "execution_count": 8,
   "id": "every-duration",
   "metadata": {},
   "outputs": [],
   "source": [
    "# dropping rows with na in home country\n",
    "df1 = df[df['HOME_COUNTRY'].notna()]"
   ]
  },
  {
   "cell_type": "code",
   "execution_count": 9,
   "id": "touched-genre",
   "metadata": {},
   "outputs": [
    {
     "data": {
      "text/plain": [
       "(103813, 14)"
      ]
     },
     "execution_count": 9,
     "metadata": {},
     "output_type": "execute_result"
    }
   ],
   "source": [
    "df1.shape"
   ]
  },
  {
   "cell_type": "code",
   "execution_count": 10,
   "id": "reasonable-bahrain",
   "metadata": {},
   "outputs": [],
   "source": [
    "X = df1[['REVIEW_RATING','TRIP_TYPE','HOME_COUNTRY','ATTRACTION_NAME']]\n",
    "y = df1['experience']"
   ]
  },
  {
   "cell_type": "code",
   "execution_count": 11,
   "id": "organizational-interim",
   "metadata": {},
   "outputs": [],
   "source": [
    "X_new = pd.get_dummies(X,drop_first=True)"
   ]
  },
  {
   "cell_type": "code",
   "execution_count": 12,
   "id": "genetic-arbor",
   "metadata": {},
   "outputs": [],
   "source": [
    "from sklearn.model_selection import train_test_split\n",
    "\n",
    "train_ratio = 0.6\n",
    "test_ratio = 0.2\n",
    "val_ratio = 0.2\n",
    "\n",
    "# \n",
    "X_train_val,X_test,y_train_val,y_test = train_test_split(X_new,y,test_size = test_ratio,stratify = y)\n",
    "X_train,X_val,y_train,y_val = train_test_split(X_train_val,y_train_val,test_size=val_ratio/(val_ratio+train_ratio),stratify = y_train_val)"
   ]
  },
  {
   "cell_type": "code",
   "execution_count": 13,
   "id": "identified-potential",
   "metadata": {},
   "outputs": [
    {
     "data": {
      "text/plain": [
       "(62287, 20763, 20763)"
      ]
     },
     "execution_count": 13,
     "metadata": {},
     "output_type": "execute_result"
    }
   ],
   "source": [
    "len(X_train),len(X_val),len(X_test)"
   ]
  },
  {
   "cell_type": "code",
   "execution_count": 14,
   "id": "listed-treatment",
   "metadata": {},
   "outputs": [],
   "source": [
    "from sklearn.linear_model import LogisticRegression"
   ]
  },
  {
   "cell_type": "code",
   "execution_count": 15,
   "id": "searching-obligation",
   "metadata": {},
   "outputs": [],
   "source": [
    "lr = LogisticRegression()"
   ]
  },
  {
   "cell_type": "code",
   "execution_count": 16,
   "id": "junior-fruit",
   "metadata": {},
   "outputs": [
    {
     "data": {
      "text/plain": [
       "LogisticRegression()"
      ]
     },
     "execution_count": 16,
     "metadata": {},
     "output_type": "execute_result"
    }
   ],
   "source": [
    "lr.fit(X_train,y_train)"
   ]
  },
  {
   "cell_type": "code",
   "execution_count": 17,
   "id": "contained-poison",
   "metadata": {},
   "outputs": [
    {
     "data": {
      "text/plain": [
       "1.0"
      ]
     },
     "execution_count": 17,
     "metadata": {},
     "output_type": "execute_result"
    }
   ],
   "source": [
    "lr.score(X_train,y_train)"
   ]
  },
  {
   "cell_type": "code",
   "execution_count": 18,
   "id": "signal-argument",
   "metadata": {},
   "outputs": [
    {
     "data": {
      "text/plain": [
       "1.0"
      ]
     },
     "execution_count": 18,
     "metadata": {},
     "output_type": "execute_result"
    }
   ],
   "source": [
    "lr.score(X_val,y_val)"
   ]
  },
  {
   "cell_type": "code",
   "execution_count": 19,
   "id": "growing-vintage",
   "metadata": {},
   "outputs": [
    {
     "data": {
      "text/plain": [
       "1.0"
      ]
     },
     "execution_count": 19,
     "metadata": {},
     "output_type": "execute_result"
    }
   ],
   "source": [
    "lr.score(X_test,y_test)"
   ]
  },
  {
   "cell_type": "code",
   "execution_count": 20,
   "id": "generous-latter",
   "metadata": {},
   "outputs": [
    {
     "data": {
      "text/plain": [
       "array(['positive', 'positive', 'positive', ..., 'positive', 'positive',\n",
       "       'non-positive'], dtype=object)"
      ]
     },
     "execution_count": 20,
     "metadata": {},
     "output_type": "execute_result"
    }
   ],
   "source": [
    "lr.predict(X_test)"
   ]
  },
  {
   "cell_type": "code",
   "execution_count": 21,
   "id": "veterinary-antarctica",
   "metadata": {},
   "outputs": [],
   "source": [
    "###########\n",
    "#### model 2\n",
    "###########"
   ]
  },
  {
   "cell_type": "code",
   "execution_count": 22,
   "id": "northern-beatles",
   "metadata": {},
   "outputs": [],
   "source": [
    "# features used -  trip type, home country, attraction name\n",
    "# target - rating"
   ]
  },
  {
   "cell_type": "code",
   "execution_count": 23,
   "id": "atlantic-declaration",
   "metadata": {},
   "outputs": [],
   "source": [
    "X = df1[['TRIP_TYPE','HOME_COUNTRY','ATTRACTION_NAME']]\n",
    "y = df1['REVIEW_RATING']"
   ]
  },
  {
   "cell_type": "code",
   "execution_count": 24,
   "id": "planned-administration",
   "metadata": {},
   "outputs": [],
   "source": [
    "X_new = pd.get_dummies(X,drop_first=True)"
   ]
  },
  {
   "cell_type": "code",
   "execution_count": 25,
   "id": "empty-invite",
   "metadata": {},
   "outputs": [],
   "source": [
    "X_train_val,X_test,y_train_val,y_test = train_test_split(X_new,y,test_size = test_ratio,stratify = y)\n",
    "X_train,X_val,y_train,y_val = train_test_split(X_train_val,y_train_val,test_size=val_ratio/(val_ratio+train_ratio),stratify = y_train_val)"
   ]
  },
  {
   "cell_type": "code",
   "execution_count": 26,
   "id": "severe-nation",
   "metadata": {},
   "outputs": [
    {
     "name": "stderr",
     "output_type": "stream",
     "text": [
      "/Users/akshaychauhan/opt/anaconda3/lib/python3.7/site-packages/sklearn/linear_model/_logistic.py:764: ConvergenceWarning: lbfgs failed to converge (status=1):\n",
      "STOP: TOTAL NO. of ITERATIONS REACHED LIMIT.\n",
      "\n",
      "Increase the number of iterations (max_iter) or scale the data as shown in:\n",
      "    https://scikit-learn.org/stable/modules/preprocessing.html\n",
      "Please also refer to the documentation for alternative solver options:\n",
      "    https://scikit-learn.org/stable/modules/linear_model.html#logistic-regression\n",
      "  extra_warning_msg=_LOGISTIC_SOLVER_CONVERGENCE_MSG)\n"
     ]
    },
    {
     "data": {
      "text/plain": [
       "LogisticRegression()"
      ]
     },
     "execution_count": 26,
     "metadata": {},
     "output_type": "execute_result"
    }
   ],
   "source": [
    "lr.fit(X_train,y_train)"
   ]
  },
  {
   "cell_type": "code",
   "execution_count": 27,
   "id": "front-daniel",
   "metadata": {},
   "outputs": [
    {
     "data": {
      "text/plain": [
       "0.6347391911634852"
      ]
     },
     "execution_count": 27,
     "metadata": {},
     "output_type": "execute_result"
    }
   ],
   "source": [
    "lr.score(X_train,y_train)"
   ]
  },
  {
   "cell_type": "code",
   "execution_count": 28,
   "id": "mathematical-evolution",
   "metadata": {},
   "outputs": [
    {
     "data": {
      "text/plain": [
       "0.6279439387371767"
      ]
     },
     "execution_count": 28,
     "metadata": {},
     "output_type": "execute_result"
    }
   ],
   "source": [
    "lr.score(X_val,y_val)"
   ]
  },
  {
   "cell_type": "code",
   "execution_count": 29,
   "id": "productive-template",
   "metadata": {},
   "outputs": [
    {
     "data": {
      "text/plain": [
       "0.6293406540480663"
      ]
     },
     "execution_count": 29,
     "metadata": {},
     "output_type": "execute_result"
    }
   ],
   "source": [
    "lr.score(X_test,y_test)"
   ]
  },
  {
   "cell_type": "code",
   "execution_count": 30,
   "id": "organizational-aggregate",
   "metadata": {},
   "outputs": [],
   "source": [
    "from sklearn.metrics import classification_report,confusion_matrix"
   ]
  },
  {
   "cell_type": "code",
   "execution_count": 31,
   "id": "known-enlargement",
   "metadata": {},
   "outputs": [
    {
     "name": "stdout",
     "output_type": "stream",
     "text": [
      "              precision    recall  f1-score   support\n",
      "\n",
      "           1       0.00      0.00      0.00       175\n",
      "           2       0.00      0.00      0.00       296\n",
      "           3       0.00      0.00      0.00      1509\n",
      "           4       0.41      0.13      0.20      5740\n",
      "           5       0.65      0.94      0.77     13043\n",
      "\n",
      "    accuracy                           0.63     20763\n",
      "   macro avg       0.21      0.22      0.19     20763\n",
      "weighted avg       0.52      0.63      0.54     20763\n",
      "\n"
     ]
    }
   ],
   "source": [
    "print(classification_report(y_test,lr.predict(X_test)))"
   ]
  },
  {
   "cell_type": "code",
   "execution_count": 37,
   "id": "creative-shadow",
   "metadata": {},
   "outputs": [
    {
     "name": "stdout",
     "output_type": "stream",
     "text": [
      "[[    0     0     0    30   145]\n",
      " [    1     0     1    48   246]\n",
      " [    0     0     0   272  1237]\n",
      " [    1     0     2   762  4975]\n",
      " [    1     1     6   730 12305]]\n"
     ]
    }
   ],
   "source": [
    "print(confusion_matrix(y_test,lr.predict(X_test)))"
   ]
  },
  {
   "cell_type": "code",
   "execution_count": null,
   "id": "civil-victor",
   "metadata": {},
   "outputs": [],
   "source": []
  }
 ],
 "metadata": {
  "kernelspec": {
   "display_name": "Python 3",
   "language": "python",
   "name": "python3"
  },
  "language_info": {
   "codemirror_mode": {
    "name": "ipython",
    "version": 3
   },
   "file_extension": ".py",
   "mimetype": "text/x-python",
   "name": "python",
   "nbconvert_exporter": "python",
   "pygments_lexer": "ipython3",
   "version": "3.7.7"
  }
 },
 "nbformat": 4,
 "nbformat_minor": 5
}
